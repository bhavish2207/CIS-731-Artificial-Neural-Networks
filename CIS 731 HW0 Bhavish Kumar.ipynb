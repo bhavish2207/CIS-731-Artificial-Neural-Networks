{
 "cells": [
  {
   "cell_type": "code",
   "execution_count": 62,
   "metadata": {},
   "outputs": [],
   "source": [
    "#conda install pip"
   ]
  },
  {
   "cell_type": "code",
   "execution_count": 4,
   "metadata": {},
   "outputs": [],
   "source": [
    "#pip install tensorflow"
   ]
  },
  {
   "cell_type": "code",
   "execution_count": 1,
   "metadata": {},
   "outputs": [],
   "source": [
    "import pandas as pd\n",
    "import tensorflow as tf"
   ]
  },
  {
   "cell_type": "markdown",
   "metadata": {},
   "source": [
    "### Reading the Dataset into a pandas dataframe"
   ]
  },
  {
   "cell_type": "markdown",
   "metadata": {},
   "source": [
    "###### The dataset contains 17 attributes in total with the 'cnt' attribute being the target attribute which is a continuous numeric variable "
   ]
  },
  {
   "cell_type": "code",
   "execution_count": 2,
   "metadata": {},
   "outputs": [],
   "source": [
    "df = pd.read_csv(\"hour.csv\")"
   ]
  },
  {
   "cell_type": "code",
   "execution_count": 3,
   "metadata": {
    "scrolled": true
   },
   "outputs": [
    {
     "data": {
      "text/html": [
       "<div>\n",
       "<style scoped>\n",
       "    .dataframe tbody tr th:only-of-type {\n",
       "        vertical-align: middle;\n",
       "    }\n",
       "\n",
       "    .dataframe tbody tr th {\n",
       "        vertical-align: top;\n",
       "    }\n",
       "\n",
       "    .dataframe thead th {\n",
       "        text-align: right;\n",
       "    }\n",
       "</style>\n",
       "<table border=\"1\" class=\"dataframe\">\n",
       "  <thead>\n",
       "    <tr style=\"text-align: right;\">\n",
       "      <th></th>\n",
       "      <th>instant</th>\n",
       "      <th>dteday</th>\n",
       "      <th>season</th>\n",
       "      <th>yr</th>\n",
       "      <th>mnth</th>\n",
       "      <th>hr</th>\n",
       "      <th>holiday</th>\n",
       "      <th>weekday</th>\n",
       "      <th>workingday</th>\n",
       "      <th>weathersit</th>\n",
       "      <th>temp</th>\n",
       "      <th>atemp</th>\n",
       "      <th>hum</th>\n",
       "      <th>windspeed</th>\n",
       "      <th>casual</th>\n",
       "      <th>registered</th>\n",
       "      <th>cnt</th>\n",
       "    </tr>\n",
       "  </thead>\n",
       "  <tbody>\n",
       "    <tr>\n",
       "      <td>0</td>\n",
       "      <td>1</td>\n",
       "      <td>2011-01-01</td>\n",
       "      <td>1</td>\n",
       "      <td>0</td>\n",
       "      <td>1</td>\n",
       "      <td>0</td>\n",
       "      <td>0</td>\n",
       "      <td>6</td>\n",
       "      <td>0</td>\n",
       "      <td>1</td>\n",
       "      <td>0.24</td>\n",
       "      <td>0.2879</td>\n",
       "      <td>0.81</td>\n",
       "      <td>0.0</td>\n",
       "      <td>3</td>\n",
       "      <td>13</td>\n",
       "      <td>16</td>\n",
       "    </tr>\n",
       "    <tr>\n",
       "      <td>1</td>\n",
       "      <td>2</td>\n",
       "      <td>2011-01-01</td>\n",
       "      <td>1</td>\n",
       "      <td>0</td>\n",
       "      <td>1</td>\n",
       "      <td>1</td>\n",
       "      <td>0</td>\n",
       "      <td>6</td>\n",
       "      <td>0</td>\n",
       "      <td>1</td>\n",
       "      <td>0.22</td>\n",
       "      <td>0.2727</td>\n",
       "      <td>0.80</td>\n",
       "      <td>0.0</td>\n",
       "      <td>8</td>\n",
       "      <td>32</td>\n",
       "      <td>40</td>\n",
       "    </tr>\n",
       "    <tr>\n",
       "      <td>2</td>\n",
       "      <td>3</td>\n",
       "      <td>2011-01-01</td>\n",
       "      <td>1</td>\n",
       "      <td>0</td>\n",
       "      <td>1</td>\n",
       "      <td>2</td>\n",
       "      <td>0</td>\n",
       "      <td>6</td>\n",
       "      <td>0</td>\n",
       "      <td>1</td>\n",
       "      <td>0.22</td>\n",
       "      <td>0.2727</td>\n",
       "      <td>0.80</td>\n",
       "      <td>0.0</td>\n",
       "      <td>5</td>\n",
       "      <td>27</td>\n",
       "      <td>32</td>\n",
       "    </tr>\n",
       "    <tr>\n",
       "      <td>3</td>\n",
       "      <td>4</td>\n",
       "      <td>2011-01-01</td>\n",
       "      <td>1</td>\n",
       "      <td>0</td>\n",
       "      <td>1</td>\n",
       "      <td>3</td>\n",
       "      <td>0</td>\n",
       "      <td>6</td>\n",
       "      <td>0</td>\n",
       "      <td>1</td>\n",
       "      <td>0.24</td>\n",
       "      <td>0.2879</td>\n",
       "      <td>0.75</td>\n",
       "      <td>0.0</td>\n",
       "      <td>3</td>\n",
       "      <td>10</td>\n",
       "      <td>13</td>\n",
       "    </tr>\n",
       "    <tr>\n",
       "      <td>4</td>\n",
       "      <td>5</td>\n",
       "      <td>2011-01-01</td>\n",
       "      <td>1</td>\n",
       "      <td>0</td>\n",
       "      <td>1</td>\n",
       "      <td>4</td>\n",
       "      <td>0</td>\n",
       "      <td>6</td>\n",
       "      <td>0</td>\n",
       "      <td>1</td>\n",
       "      <td>0.24</td>\n",
       "      <td>0.2879</td>\n",
       "      <td>0.75</td>\n",
       "      <td>0.0</td>\n",
       "      <td>0</td>\n",
       "      <td>1</td>\n",
       "      <td>1</td>\n",
       "    </tr>\n",
       "  </tbody>\n",
       "</table>\n",
       "</div>"
      ],
      "text/plain": [
       "   instant      dteday  season  yr  mnth  hr  holiday  weekday  workingday  \\\n",
       "0        1  2011-01-01       1   0     1   0        0        6           0   \n",
       "1        2  2011-01-01       1   0     1   1        0        6           0   \n",
       "2        3  2011-01-01       1   0     1   2        0        6           0   \n",
       "3        4  2011-01-01       1   0     1   3        0        6           0   \n",
       "4        5  2011-01-01       1   0     1   4        0        6           0   \n",
       "\n",
       "   weathersit  temp   atemp   hum  windspeed  casual  registered  cnt  \n",
       "0           1  0.24  0.2879  0.81        0.0       3          13   16  \n",
       "1           1  0.22  0.2727  0.80        0.0       8          32   40  \n",
       "2           1  0.22  0.2727  0.80        0.0       5          27   32  \n",
       "3           1  0.24  0.2879  0.75        0.0       3          10   13  \n",
       "4           1  0.24  0.2879  0.75        0.0       0           1    1  "
      ]
     },
     "execution_count": 3,
     "metadata": {},
     "output_type": "execute_result"
    }
   ],
   "source": [
    "df.head()"
   ]
  },
  {
   "cell_type": "markdown",
   "metadata": {},
   "source": [
    "#### Dropping unnecessary columns which we will not be using as inputs, such as 'instant', 'date', 'casual', 'registered'\n",
    "#### After dropping these columns, the target variable can be approximated as a function of the input variables"
   ]
  },
  {
   "cell_type": "code",
   "execution_count": 4,
   "metadata": {
    "scrolled": true
   },
   "outputs": [],
   "source": [
    "y = df.cnt\n",
    "df = df.drop(columns=['instant', 'dteday','casual','registered','cnt'])"
   ]
  },
  {
   "cell_type": "code",
   "execution_count": 5,
   "metadata": {
    "scrolled": false
   },
   "outputs": [
    {
     "data": {
      "text/html": [
       "<div>\n",
       "<style scoped>\n",
       "    .dataframe tbody tr th:only-of-type {\n",
       "        vertical-align: middle;\n",
       "    }\n",
       "\n",
       "    .dataframe tbody tr th {\n",
       "        vertical-align: top;\n",
       "    }\n",
       "\n",
       "    .dataframe thead th {\n",
       "        text-align: right;\n",
       "    }\n",
       "</style>\n",
       "<table border=\"1\" class=\"dataframe\">\n",
       "  <thead>\n",
       "    <tr style=\"text-align: right;\">\n",
       "      <th></th>\n",
       "      <th>season</th>\n",
       "      <th>yr</th>\n",
       "      <th>mnth</th>\n",
       "      <th>hr</th>\n",
       "      <th>holiday</th>\n",
       "      <th>weekday</th>\n",
       "      <th>workingday</th>\n",
       "      <th>weathersit</th>\n",
       "      <th>temp</th>\n",
       "      <th>atemp</th>\n",
       "      <th>hum</th>\n",
       "      <th>windspeed</th>\n",
       "    </tr>\n",
       "  </thead>\n",
       "  <tbody>\n",
       "    <tr>\n",
       "      <td>0</td>\n",
       "      <td>1</td>\n",
       "      <td>0</td>\n",
       "      <td>1</td>\n",
       "      <td>0</td>\n",
       "      <td>0</td>\n",
       "      <td>6</td>\n",
       "      <td>0</td>\n",
       "      <td>1</td>\n",
       "      <td>0.24</td>\n",
       "      <td>0.2879</td>\n",
       "      <td>0.81</td>\n",
       "      <td>0.0</td>\n",
       "    </tr>\n",
       "    <tr>\n",
       "      <td>1</td>\n",
       "      <td>1</td>\n",
       "      <td>0</td>\n",
       "      <td>1</td>\n",
       "      <td>1</td>\n",
       "      <td>0</td>\n",
       "      <td>6</td>\n",
       "      <td>0</td>\n",
       "      <td>1</td>\n",
       "      <td>0.22</td>\n",
       "      <td>0.2727</td>\n",
       "      <td>0.80</td>\n",
       "      <td>0.0</td>\n",
       "    </tr>\n",
       "    <tr>\n",
       "      <td>2</td>\n",
       "      <td>1</td>\n",
       "      <td>0</td>\n",
       "      <td>1</td>\n",
       "      <td>2</td>\n",
       "      <td>0</td>\n",
       "      <td>6</td>\n",
       "      <td>0</td>\n",
       "      <td>1</td>\n",
       "      <td>0.22</td>\n",
       "      <td>0.2727</td>\n",
       "      <td>0.80</td>\n",
       "      <td>0.0</td>\n",
       "    </tr>\n",
       "    <tr>\n",
       "      <td>3</td>\n",
       "      <td>1</td>\n",
       "      <td>0</td>\n",
       "      <td>1</td>\n",
       "      <td>3</td>\n",
       "      <td>0</td>\n",
       "      <td>6</td>\n",
       "      <td>0</td>\n",
       "      <td>1</td>\n",
       "      <td>0.24</td>\n",
       "      <td>0.2879</td>\n",
       "      <td>0.75</td>\n",
       "      <td>0.0</td>\n",
       "    </tr>\n",
       "    <tr>\n",
       "      <td>4</td>\n",
       "      <td>1</td>\n",
       "      <td>0</td>\n",
       "      <td>1</td>\n",
       "      <td>4</td>\n",
       "      <td>0</td>\n",
       "      <td>6</td>\n",
       "      <td>0</td>\n",
       "      <td>1</td>\n",
       "      <td>0.24</td>\n",
       "      <td>0.2879</td>\n",
       "      <td>0.75</td>\n",
       "      <td>0.0</td>\n",
       "    </tr>\n",
       "  </tbody>\n",
       "</table>\n",
       "</div>"
      ],
      "text/plain": [
       "   season  yr  mnth  hr  holiday  weekday  workingday  weathersit  temp  \\\n",
       "0       1   0     1   0        0        6           0           1  0.24   \n",
       "1       1   0     1   1        0        6           0           1  0.22   \n",
       "2       1   0     1   2        0        6           0           1  0.22   \n",
       "3       1   0     1   3        0        6           0           1  0.24   \n",
       "4       1   0     1   4        0        6           0           1  0.24   \n",
       "\n",
       "    atemp   hum  windspeed  \n",
       "0  0.2879  0.81        0.0  \n",
       "1  0.2727  0.80        0.0  \n",
       "2  0.2727  0.80        0.0  \n",
       "3  0.2879  0.75        0.0  \n",
       "4  0.2879  0.75        0.0  "
      ]
     },
     "execution_count": 5,
     "metadata": {},
     "output_type": "execute_result"
    }
   ],
   "source": [
    "df.head()"
   ]
  },
  {
   "cell_type": "markdown",
   "metadata": {},
   "source": [
    "#### Splitting the dataset into Train and Test datasets, where Train dataset is used to train the neural network to generate an approximate function that can map the input variables to the output variable. Once the network has been trained, the performance of the network can be evaluated using the test dataset. If the training & test mse are in line then we can rule out the problem of overfitting.\n",
    "###### The train_test_split function of sklearn library is being used to randomly shuffle and split the dataset into train and test"
   ]
  },
  {
   "cell_type": "code",
   "execution_count": 6,
   "metadata": {},
   "outputs": [],
   "source": [
    "from sklearn.model_selection import train_test_split\n",
    "x_train,x_test,y_train,y_test = train_test_split(df,y, test_size=0.2, random_state=42, shuffle=True)"
   ]
  },
  {
   "cell_type": "code",
   "execution_count": 8,
   "metadata": {
    "scrolled": true
   },
   "outputs": [
    {
     "name": "stdout",
     "output_type": "stream",
     "text": [
      "Number of rows in training dataset: 13903\n",
      "Number of columns used as input: 12\n"
     ]
    }
   ],
   "source": [
    "print(\"Number of rows in training dataset:\", len(x_train))\n",
    "print(\"Number of columns used as input:\", len(x_train.columns))"
   ]
  },
  {
   "cell_type": "markdown",
   "metadata": {},
   "source": [
    "## Building the \"d-2d-1\" Neural Network architecture using the keras function of tensorflow library\n",
    "### This architecture contains one hidden layer with 24 nodes (since this dataset has 12 inputs) and an output layer with one node. The sigmoid activation function is being used at the hidden layers as shown in the below code. Since the dependent variable is a continuous numeric variable, no activation function is being used at the output layer to let the obtained output remain in its continuous numeric form. The model is compiled with the Mean Square Error (MSE) metric as the loss function. "
   ]
  },
  {
   "cell_type": "code",
   "execution_count": 8,
   "metadata": {},
   "outputs": [],
   "source": [
    "model = tf.keras.models.Sequential()\n",
    "model.add(tf.keras.layers.Dense(units = 2*len(x_train.columns), activation = 'sigmoid', input_shape = (len(x_train.columns),)))\n",
    "model.add(tf.keras.layers.Dense(units = 1))\n",
    "model.compile(optimizer = 'adam', loss = 'mse', metrics = ['mse'])"
   ]
  },
  {
   "cell_type": "markdown",
   "metadata": {},
   "source": [
    "### Fitting the Neural Network using x_train as input and y_train as target to obtain the fitted neural network model with the optimum weights to produce the best function approximation of the target variable which will yield unbiased and low variance estimates\n",
    "#### Specifying the batch_size as the number of rows in the dataset to perform \"Batch Gradient Descent\". Setting the number of epochs to 25,000, since Batch Gradient Descent requires a large number of epochs for the model to converge to a global optima and yield a minimum possible MSE.\n",
    "#### Number of epochs = number of weight updates in the case of Batch Gradient Descent, hence we can plot the number of epochs vs MSE to observe a trend in how MSE varies with epochs, i.e. to track the variation in MSE with every weight update. Ideally, we should observe a downward trend initially followed by a flat trend afterwards. This is because, the MSE will continue to decrease drastically with every epoch until global optima is reached, after which the MSE will not decrease any more."
   ]
  },
  {
   "cell_type": "code",
   "execution_count": 9,
   "metadata": {},
   "outputs": [
    {
     "name": "stdout",
     "output_type": "stream",
     "text": [
      "Epoch 1/100\n",
      "1/1 [==============================] - 0s 319ms/step - loss: 69726.8047 - mse: 69726.8047 - val_loss: 66080.1641 - val_mse: 66080.1641\n",
      "Epoch 2/100\n",
      "1/1 [==============================] - 0s 24ms/step - loss: 69717.1484 - mse: 69717.1484 - val_loss: 66070.7656 - val_mse: 66070.7656\n",
      "Epoch 3/100\n",
      "1/1 [==============================] - 0s 31ms/step - loss: 69707.4844 - mse: 69707.4844 - val_loss: 66061.3594 - val_mse: 66061.3594\n",
      "Epoch 4/100\n",
      "1/1 [==============================] - 0s 35ms/step - loss: 69697.7969 - mse: 69697.7969 - val_loss: 66051.9531 - val_mse: 66051.9531\n",
      "Epoch 5/100\n",
      "1/1 [==============================] - 0s 35ms/step - loss: 69688.1250 - mse: 69688.1250 - val_loss: 66042.5391 - val_mse: 66042.5391\n",
      "Epoch 6/100\n",
      "1/1 [==============================] - 0s 39ms/step - loss: 69678.4219 - mse: 69678.4219 - val_loss: 66033.0938 - val_mse: 66033.0938\n",
      "Epoch 7/100\n",
      "1/1 [==============================] - 0s 32ms/step - loss: 69668.7188 - mse: 69668.7188 - val_loss: 66023.6328 - val_mse: 66023.6328\n",
      "Epoch 8/100\n",
      "1/1 [==============================] - 0s 30ms/step - loss: 69658.9922 - mse: 69658.9922 - val_loss: 66014.1797 - val_mse: 66014.1797\n",
      "Epoch 9/100\n",
      "1/1 [==============================] - 0s 29ms/step - loss: 69649.2422 - mse: 69649.2422 - val_loss: 66004.6875 - val_mse: 66004.6875\n",
      "Epoch 10/100\n",
      "1/1 [==============================] - 0s 29ms/step - loss: 69639.4922 - mse: 69639.4922 - val_loss: 65995.1875 - val_mse: 65995.1875\n",
      "Epoch 11/100\n",
      "1/1 [==============================] - 0s 35ms/step - loss: 69629.7109 - mse: 69629.7109 - val_loss: 65985.6641 - val_mse: 65985.6641\n",
      "Epoch 12/100\n",
      "1/1 [==============================] - 0s 31ms/step - loss: 69619.9141 - mse: 69619.9141 - val_loss: 65976.1172 - val_mse: 65976.1172\n",
      "Epoch 13/100\n",
      "1/1 [==============================] - 0s 30ms/step - loss: 69610.0938 - mse: 69610.0938 - val_loss: 65966.5469 - val_mse: 65966.5469\n",
      "Epoch 14/100\n",
      "1/1 [==============================] - 0s 33ms/step - loss: 69600.2422 - mse: 69600.2422 - val_loss: 65956.9531 - val_mse: 65956.9531\n",
      "Epoch 15/100\n",
      "1/1 [==============================] - 0s 30ms/step - loss: 69590.3594 - mse: 69590.3594 - val_loss: 65947.3203 - val_mse: 65947.3203\n",
      "Epoch 16/100\n",
      "1/1 [==============================] - 0s 32ms/step - loss: 69580.4609 - mse: 69580.4609 - val_loss: 65937.6719 - val_mse: 65937.6719\n",
      "Epoch 17/100\n",
      "1/1 [==============================] - 0s 40ms/step - loss: 69570.5234 - mse: 69570.5234 - val_loss: 65927.9766 - val_mse: 65927.9766\n",
      "Epoch 18/100\n",
      "1/1 [==============================] - 0s 42ms/step - loss: 69560.5547 - mse: 69560.5547 - val_loss: 65918.2500 - val_mse: 65918.2500\n",
      "Epoch 19/100\n",
      "1/1 [==============================] - 0s 37ms/step - loss: 69550.5469 - mse: 69550.5469 - val_loss: 65908.4766 - val_mse: 65908.4766\n",
      "Epoch 20/100\n",
      "1/1 [==============================] - 0s 29ms/step - loss: 69540.4922 - mse: 69540.4922 - val_loss: 65898.6719 - val_mse: 65898.6719\n",
      "Epoch 21/100\n",
      "1/1 [==============================] - 0s 32ms/step - loss: 69530.4062 - mse: 69530.4062 - val_loss: 65888.8047 - val_mse: 65888.8047\n",
      "Epoch 22/100\n",
      "1/1 [==============================] - 0s 31ms/step - loss: 69520.2656 - mse: 69520.2656 - val_loss: 65878.8984 - val_mse: 65878.8984\n",
      "Epoch 23/100\n",
      "1/1 [==============================] - 0s 35ms/step - loss: 69510.0859 - mse: 69510.0859 - val_loss: 65868.9531 - val_mse: 65868.9531\n",
      "Epoch 24/100\n",
      "1/1 [==============================] - 0s 26ms/step - loss: 69499.8359 - mse: 69499.8359 - val_loss: 65858.9375 - val_mse: 65858.9375\n",
      "Epoch 25/100\n",
      "1/1 [==============================] - 0s 27ms/step - loss: 69489.5391 - mse: 69489.5391 - val_loss: 65848.8828 - val_mse: 65848.8828\n",
      "Epoch 26/100\n",
      "1/1 [==============================] - 0s 27ms/step - loss: 69479.1875 - mse: 69479.1875 - val_loss: 65838.7500 - val_mse: 65838.7500\n",
      "Epoch 27/100\n",
      "1/1 [==============================] - 0s 31ms/step - loss: 69468.7734 - mse: 69468.7734 - val_loss: 65828.5625 - val_mse: 65828.5625\n",
      "Epoch 28/100\n",
      "1/1 [==============================] - 0s 29ms/step - loss: 69458.2891 - mse: 69458.2891 - val_loss: 65818.3125 - val_mse: 65818.3125\n",
      "Epoch 29/100\n",
      "1/1 [==============================] - 0s 28ms/step - loss: 69447.7344 - mse: 69447.7344 - val_loss: 65807.9766 - val_mse: 65807.9766\n",
      "Epoch 30/100\n",
      "1/1 [==============================] - 0s 27ms/step - loss: 69437.1250 - mse: 69437.1250 - val_loss: 65797.5781 - val_mse: 65797.5781\n",
      "Epoch 31/100\n",
      "1/1 [==============================] - 0s 33ms/step - loss: 69426.4219 - mse: 69426.4219 - val_loss: 65787.1016 - val_mse: 65787.1016\n",
      "Epoch 32/100\n",
      "1/1 [==============================] - 0s 30ms/step - loss: 69415.6406 - mse: 69415.6406 - val_loss: 65776.5547 - val_mse: 65776.5547\n",
      "Epoch 33/100\n",
      "1/1 [==============================] - 0s 28ms/step - loss: 69404.7812 - mse: 69404.7812 - val_loss: 65765.9062 - val_mse: 65765.9062\n",
      "Epoch 34/100\n",
      "1/1 [==============================] - 0s 30ms/step - loss: 69393.8359 - mse: 69393.8359 - val_loss: 65755.1719 - val_mse: 65755.1719\n",
      "Epoch 35/100\n",
      "1/1 [==============================] - 0s 24ms/step - loss: 69382.7891 - mse: 69382.7891 - val_loss: 65744.3438 - val_mse: 65744.3438\n",
      "Epoch 36/100\n",
      "1/1 [==============================] - 0s 28ms/step - loss: 69371.6641 - mse: 69371.6641 - val_loss: 65733.4219 - val_mse: 65733.4219\n",
      "Epoch 37/100\n",
      "1/1 [==============================] - 0s 26ms/step - loss: 69360.4141 - mse: 69360.4141 - val_loss: 65722.4062 - val_mse: 65722.4062\n",
      "Epoch 38/100\n",
      "1/1 [==============================] - 0s 28ms/step - loss: 69349.0859 - mse: 69349.0859 - val_loss: 65711.2891 - val_mse: 65711.2891\n",
      "Epoch 39/100\n",
      "1/1 [==============================] - 0s 30ms/step - loss: 69337.6406 - mse: 69337.6406 - val_loss: 65700.0625 - val_mse: 65700.0625\n",
      "Epoch 40/100\n",
      "1/1 [==============================] - 0s 32ms/step - loss: 69326.0781 - mse: 69326.0781 - val_loss: 65688.7188 - val_mse: 65688.7188\n",
      "Epoch 41/100\n",
      "1/1 [==============================] - 0s 28ms/step - loss: 69314.4141 - mse: 69314.4141 - val_loss: 65677.2578 - val_mse: 65677.2578\n",
      "Epoch 42/100\n",
      "1/1 [==============================] - 0s 31ms/step - loss: 69302.6328 - mse: 69302.6328 - val_loss: 65665.6875 - val_mse: 65665.6875\n",
      "Epoch 43/100\n",
      "1/1 [==============================] - 0s 30ms/step - loss: 69290.7109 - mse: 69290.7109 - val_loss: 65653.9766 - val_mse: 65653.9766\n",
      "Epoch 44/100\n",
      "1/1 [==============================] - 0s 32ms/step - loss: 69278.6797 - mse: 69278.6797 - val_loss: 65642.1562 - val_mse: 65642.1562\n",
      "Epoch 45/100\n",
      "1/1 [==============================] - 0s 27ms/step - loss: 69266.5078 - mse: 69266.5078 - val_loss: 65630.2031 - val_mse: 65630.2031\n",
      "Epoch 46/100\n",
      "1/1 [==============================] - 0s 31ms/step - loss: 69254.1953 - mse: 69254.1953 - val_loss: 65618.1094 - val_mse: 65618.1094\n",
      "Epoch 47/100\n",
      "1/1 [==============================] - 0s 27ms/step - loss: 69241.7422 - mse: 69241.7422 - val_loss: 65605.8828 - val_mse: 65605.8828\n",
      "Epoch 48/100\n",
      "1/1 [==============================] - 0s 29ms/step - loss: 69229.1484 - mse: 69229.1484 - val_loss: 65593.5078 - val_mse: 65593.5078\n",
      "Epoch 49/100\n",
      "1/1 [==============================] - 0s 28ms/step - loss: 69216.4141 - mse: 69216.4141 - val_loss: 65580.9688 - val_mse: 65580.9688\n",
      "Epoch 50/100\n",
      "1/1 [==============================] - 0s 30ms/step - loss: 69203.5156 - mse: 69203.5156 - val_loss: 65568.3047 - val_mse: 65568.3047\n",
      "Epoch 51/100\n",
      "1/1 [==============================] - 0s 26ms/step - loss: 69190.4609 - mse: 69190.4609 - val_loss: 65555.4766 - val_mse: 65555.4766\n",
      "Epoch 52/100\n",
      "1/1 [==============================] - 0s 27ms/step - loss: 69177.2500 - mse: 69177.2500 - val_loss: 65542.5000 - val_mse: 65542.5000\n",
      "Epoch 53/100\n",
      "1/1 [==============================] - 0s 30ms/step - loss: 69163.8750 - mse: 69163.8750 - val_loss: 65529.3477 - val_mse: 65529.3477\n",
      "Epoch 54/100\n",
      "1/1 [==============================] - 0s 32ms/step - loss: 69150.3359 - mse: 69150.3359 - val_loss: 65516.0430 - val_mse: 65516.0430\n",
      "Epoch 55/100\n",
      "1/1 [==============================] - 0s 38ms/step - loss: 69136.6328 - mse: 69136.6328 - val_loss: 65502.5508 - val_mse: 65502.5508\n",
      "Epoch 56/100\n",
      "1/1 [==============================] - 0s 29ms/step - loss: 69122.7422 - mse: 69122.7422 - val_loss: 65488.9102 - val_mse: 65488.9102\n"
     ]
    },
    {
     "name": "stdout",
     "output_type": "stream",
     "text": [
      "Epoch 57/100\n",
      "1/1 [==============================] - 0s 26ms/step - loss: 69108.6797 - mse: 69108.6797 - val_loss: 65475.0703 - val_mse: 65475.0703\n",
      "Epoch 58/100\n",
      "1/1 [==============================] - 0s 26ms/step - loss: 69094.4297 - mse: 69094.4297 - val_loss: 65461.0820 - val_mse: 65461.0820\n",
      "Epoch 59/100\n",
      "1/1 [==============================] - 0s 27ms/step - loss: 69080.0156 - mse: 69080.0156 - val_loss: 65446.9141 - val_mse: 65446.9141\n",
      "Epoch 60/100\n",
      "1/1 [==============================] - 0s 26ms/step - loss: 69065.4062 - mse: 69065.4062 - val_loss: 65432.5469 - val_mse: 65432.5469\n",
      "Epoch 61/100\n",
      "1/1 [==============================] - 0s 28ms/step - loss: 69050.6094 - mse: 69050.6094 - val_loss: 65418.0156 - val_mse: 65418.0156\n",
      "Epoch 62/100\n",
      "1/1 [==============================] - 0s 28ms/step - loss: 69035.6250 - mse: 69035.6250 - val_loss: 65403.3047 - val_mse: 65403.3047\n",
      "Epoch 63/100\n",
      "1/1 [==============================] - 0s 28ms/step - loss: 69020.4609 - mse: 69020.4609 - val_loss: 65388.4102 - val_mse: 65388.4102\n",
      "Epoch 64/100\n",
      "1/1 [==============================] - 0s 31ms/step - loss: 69005.0938 - mse: 69005.0938 - val_loss: 65373.3203 - val_mse: 65373.3203\n",
      "Epoch 65/100\n",
      "1/1 [==============================] - 0s 29ms/step - loss: 68989.5547 - mse: 68989.5547 - val_loss: 65358.0664 - val_mse: 65358.0664\n",
      "Epoch 66/100\n",
      "1/1 [==============================] - 0s 23ms/step - loss: 68973.8125 - mse: 68973.8125 - val_loss: 65342.6133 - val_mse: 65342.6133\n",
      "Epoch 67/100\n",
      "1/1 [==============================] - 0s 25ms/step - loss: 68957.8828 - mse: 68957.8828 - val_loss: 65326.9844 - val_mse: 65326.9844\n",
      "Epoch 68/100\n",
      "1/1 [==============================] - 0s 32ms/step - loss: 68941.7578 - mse: 68941.7578 - val_loss: 65311.1914 - val_mse: 65311.1914\n",
      "Epoch 69/100\n",
      "1/1 [==============================] - 0s 34ms/step - loss: 68925.4531 - mse: 68925.4531 - val_loss: 65295.1992 - val_mse: 65295.1992\n",
      "Epoch 70/100\n",
      "1/1 [==============================] - 0s 29ms/step - loss: 68908.9688 - mse: 68908.9688 - val_loss: 65279.0273 - val_mse: 65279.0273\n",
      "Epoch 71/100\n",
      "1/1 [==============================] - 0s 31ms/step - loss: 68892.2812 - mse: 68892.2812 - val_loss: 65262.7070 - val_mse: 65262.7070\n",
      "Epoch 72/100\n",
      "1/1 [==============================] - 0s 29ms/step - loss: 68875.4219 - mse: 68875.4219 - val_loss: 65246.1992 - val_mse: 65246.1992\n",
      "Epoch 73/100\n",
      "1/1 [==============================] - 0s 29ms/step - loss: 68858.4062 - mse: 68858.4062 - val_loss: 65229.5312 - val_mse: 65229.5312\n",
      "Epoch 74/100\n",
      "1/1 [==============================] - 0s 29ms/step - loss: 68841.2031 - mse: 68841.2031 - val_loss: 65212.6992 - val_mse: 65212.6992\n",
      "Epoch 75/100\n",
      "1/1 [==============================] - 0s 32ms/step - loss: 68823.8203 - mse: 68823.8203 - val_loss: 65195.7148 - val_mse: 65195.7148\n",
      "Epoch 76/100\n",
      "1/1 [==============================] - 0s 32ms/step - loss: 68806.2734 - mse: 68806.2734 - val_loss: 65178.5703 - val_mse: 65178.5703\n",
      "Epoch 77/100\n",
      "1/1 [==============================] - 0s 24ms/step - loss: 68788.5703 - mse: 68788.5703 - val_loss: 65161.2852 - val_mse: 65161.2852\n",
      "Epoch 78/100\n",
      "1/1 [==============================] - 0s 26ms/step - loss: 68770.7266 - mse: 68770.7266 - val_loss: 65143.8438 - val_mse: 65143.8438\n",
      "Epoch 79/100\n",
      "1/1 [==============================] - 0s 27ms/step - loss: 68752.7266 - mse: 68752.7266 - val_loss: 65126.2891 - val_mse: 65126.2891\n",
      "Epoch 80/100\n",
      "1/1 [==============================] - 0s 30ms/step - loss: 68734.5859 - mse: 68734.5859 - val_loss: 65108.6016 - val_mse: 65108.6016\n",
      "Epoch 81/100\n",
      "1/1 [==============================] - 0s 32ms/step - loss: 68716.3125 - mse: 68716.3125 - val_loss: 65090.7891 - val_mse: 65090.7891\n",
      "Epoch 82/100\n",
      "1/1 [==============================] - 0s 29ms/step - loss: 68697.9219 - mse: 68697.9219 - val_loss: 65072.8828 - val_mse: 65072.8828\n",
      "Epoch 83/100\n",
      "1/1 [==============================] - 0s 33ms/step - loss: 68679.4141 - mse: 68679.4141 - val_loss: 65054.8633 - val_mse: 65054.8633\n",
      "Epoch 84/100\n",
      "1/1 [==============================] - 0s 26ms/step - loss: 68660.7969 - mse: 68660.7969 - val_loss: 65036.7539 - val_mse: 65036.7539\n",
      "Epoch 85/100\n",
      "1/1 [==============================] - 0s 23ms/step - loss: 68642.0781 - mse: 68642.0781 - val_loss: 65018.5703 - val_mse: 65018.5703\n",
      "Epoch 86/100\n",
      "1/1 [==============================] - 0s 26ms/step - loss: 68623.2891 - mse: 68623.2891 - val_loss: 65000.3086 - val_mse: 65000.3086\n",
      "Epoch 87/100\n",
      "1/1 [==============================] - 0s 24ms/step - loss: 68604.4062 - mse: 68604.4062 - val_loss: 64981.9883 - val_mse: 64981.9883\n",
      "Epoch 88/100\n",
      "1/1 [==============================] - 0s 29ms/step - loss: 68585.4688 - mse: 68585.4688 - val_loss: 64963.6133 - val_mse: 64963.6133\n",
      "Epoch 89/100\n",
      "1/1 [==============================] - 0s 24ms/step - loss: 68566.4922 - mse: 68566.4922 - val_loss: 64945.2109 - val_mse: 64945.2109\n",
      "Epoch 90/100\n",
      "1/1 [==============================] - 0s 25ms/step - loss: 68547.4453 - mse: 68547.4453 - val_loss: 64926.7578 - val_mse: 64926.7578\n",
      "Epoch 91/100\n",
      "1/1 [==============================] - 0s 29ms/step - loss: 68528.3906 - mse: 68528.3906 - val_loss: 64908.3086 - val_mse: 64908.3086\n",
      "Epoch 92/100\n",
      "1/1 [==============================] - 0s 28ms/step - loss: 68509.3047 - mse: 68509.3047 - val_loss: 64889.8477 - val_mse: 64889.8477\n",
      "Epoch 93/100\n",
      "1/1 [==============================] - 0s 28ms/step - loss: 68490.2031 - mse: 68490.2031 - val_loss: 64871.3984 - val_mse: 64871.3984\n",
      "Epoch 94/100\n",
      "1/1 [==============================] - 0s 32ms/step - loss: 68471.1172 - mse: 68471.1172 - val_loss: 64852.9492 - val_mse: 64852.9492\n",
      "Epoch 95/100\n",
      "1/1 [==============================] - 0s 31ms/step - loss: 68452.0547 - mse: 68452.0547 - val_loss: 64834.5391 - val_mse: 64834.5391\n",
      "Epoch 96/100\n",
      "1/1 [==============================] - 0s 25ms/step - loss: 68433.0078 - mse: 68433.0078 - val_loss: 64816.1641 - val_mse: 64816.1641\n",
      "Epoch 97/100\n",
      "1/1 [==============================] - 0s 27ms/step - loss: 68414.0000 - mse: 68414.0000 - val_loss: 64797.8398 - val_mse: 64797.8398\n",
      "Epoch 98/100\n",
      "1/1 [==============================] - 0s 28ms/step - loss: 68395.0469 - mse: 68395.0469 - val_loss: 64779.5781 - val_mse: 64779.5781\n",
      "Epoch 99/100\n",
      "1/1 [==============================] - 0s 32ms/step - loss: 68376.1484 - mse: 68376.1484 - val_loss: 64761.3828 - val_mse: 64761.3828\n",
      "Epoch 100/100\n",
      "1/1 [==============================] - 0s 26ms/step - loss: 68357.3281 - mse: 68357.3281 - val_loss: 64743.2617 - val_mse: 64743.2617\n"
     ]
    }
   ],
   "source": [
    "fitted_model = model.fit(x_train, y_train, epochs =100, validation_data=(x_test,y_test), batch_size = len(x_train))"
   ]
  },
  {
   "cell_type": "code",
   "execution_count": 20,
   "metadata": {},
   "outputs": [],
   "source": [
    "model_loss = pd.DataFrame(model.history.history)"
   ]
  },
  {
   "cell_type": "markdown",
   "metadata": {},
   "source": [
    "### As expected, we can observe a drastic exponential decrease in MSE with every weight update, but after around 12,000 weight updates, curve flattens and we observe a slight decrease in MSE from that point onwards"
   ]
  },
  {
   "cell_type": "code",
   "execution_count": 22,
   "metadata": {
    "scrolled": false
   },
   "outputs": [
    {
     "data": {
      "image/png": "[encoded data removed]",
      "text/plain": [
       "<Figure size 432x288 with 1 Axes>"
      ]
     },
     "metadata": {
      "needs_background": "light"
     },
     "output_type": "display_data"
    }
   ],
   "source": [
    "model_loss.head()\n",
    "import matplotlib.pyplot as plt\n",
    "plt.plot(model_loss.index,model_loss.mse)\n",
    " \n",
    "# Add title and axis names\n",
    "plt.title('MSE vs Weight Updates')\n",
    "plt.xlabel('Number of Weight updates')\n",
    "plt.ylabel('MSE')\n",
    " \n",
    "# Show graphic\n",
    "plt.show()"
   ]
  },
  {
   "cell_type": "code",
   "execution_count": 21,
   "metadata": {
    "scrolled": true
   },
   "outputs": [
    {
     "data": {
      "text/plain": [
       "<matplotlib.axes._subplots.AxesSubplot at 0x1f25ba2c388>"
      ]
     },
     "execution_count": 21,
     "metadata": {},
     "output_type": "execute_result"
    },
    {
     "data": {
      "image/png": "[encoded data removed]",
      "text/plain": [
       "<Figure size 432x288 with 1 Axes>"
      ]
     },
     "metadata": {
      "needs_background": "light"
     },
     "output_type": "display_data"
    }
   ],
   "source": [
    "model_loss.plot()"
   ]
  },
  {
   "cell_type": "markdown",
   "metadata": {},
   "source": [
    "### 2. NUMPY IMPLEMENTATION of d-2d-1 network"
   ]
  },
  {
   "cell_type": "code",
   "execution_count": 9,
   "metadata": {},
   "outputs": [],
   "source": [
    "import numpy as np"
   ]
  },
  {
   "cell_type": "code",
   "execution_count": 10,
   "metadata": {},
   "outputs": [],
   "source": [
    "xtrain_arr = x_train.to_numpy()\n",
    "y_train_arr = y_train.to_numpy()"
   ]
  },
  {
   "cell_type": "code",
   "execution_count": 12,
   "metadata": {
    "scrolled": true
   },
   "outputs": [
    {
     "name": "stdout",
     "output_type": "stream",
     "text": [
      "1 69488.27505310794\n",
      "2 69198.38385518479\n",
      "3 69142.24056652645\n",
      "4 69142.1759288022\n",
      "5 69142.1206511392\n",
      "6 69142.07280837749\n",
      "7 69142.03097388163\n",
      "8 69141.99406712787\n",
      "9 69141.9612542002\n",
      "10 69141.93188085755\n",
      "11 69141.905426369\n",
      "12 69141.88147092432\n",
      "13 69141.85967218723\n",
      "14 69141.83974811302\n",
      "15 69141.82146416239\n",
      "16 69141.80462365253\n",
      "17 69141.78906036903\n",
      "18 69141.7746328565\n",
      "19 69141.76121994831\n",
      "20 69141.74871723427\n",
      "21 69141.7370342494\n",
      "22 69141.72609220492\n",
      "23 69141.71582215509\n",
      "24 69141.70616350103\n",
      "25 69141.69706275722\n",
      "26 69141.68847253405\n",
      "27 69141.68035068858\n",
      "28 69141.6726596146\n",
      "29 69141.66536564956\n",
      "30 69141.65843856403\n",
      "31 69141.65185113675\n",
      "32 69141.64557878571\n",
      "33 69141.63959925924\n",
      "34 69141.63389235949\n",
      "35 69141.6284397146\n",
      "36 69141.62322457596\n",
      "37 69141.61823163994\n",
      "38 69141.61344689786\n",
      "39 69141.60885749754\n",
      "40 69141.60445163195\n",
      "41 69141.6002184292\n",
      "42 69141.5961478653\n",
      "43 69141.59223068002\n",
      "44 69141.58845830809\n",
      "45 69141.5848228131\n",
      "46 69141.5813168312\n",
      "47 69141.57793352191\n",
      "48 69141.57466651857\n",
      "49 69141.57150989212\n",
      "50 69141.56845811082\n",
      "51 69141.56550601011\n",
      "52 69141.56264875854\n",
      "53 69141.55988183757\n",
      "54 69141.55720101084\n",
      "55 69141.5546023039\n",
      "56 69141.55208198588\n",
      "57 69141.54963654981\n",
      "58 69141.5472626963\n",
      "59 69141.54495731782\n",
      "60 69141.542717485\n",
      "61 69141.54054043593\n",
      "62 69141.53842356078\n",
      "63 69141.53636439404\n",
      "64 69141.53436060548\n",
      "65 69141.53240998645\n",
      "66 69141.53051044776\n",
      "67 69141.5286600068\n",
      "68 69141.52685678496\n",
      "69 69141.52509899734\n",
      "70 69141.5233849489\n",
      "71 69141.52171302878\n",
      "72 69141.52008170448\n",
      "73 69141.51848951672\n",
      "74 69141.51693507656\n",
      "75 69141.51541706125\n",
      "76 69141.51393420687\n",
      "77 69141.51248530993\n",
      "78 69141.51106922148\n",
      "79 69141.50968484214\n",
      "80 69141.50833112327\n",
      "81 69141.50700706219\n",
      "82 69141.50571169808\n",
      "83 69141.50444411254\n",
      "84 69141.50320342658\n",
      "85 69141.50198879637\n",
      "86 69141.5007994155\n",
      "87 69141.49963450873\n",
      "88 69141.49849333212\n",
      "89 69141.49737517406\n",
      "90 69141.49627934907\n",
      "91 69141.49520519868\n",
      "92 69141.49415209144\n",
      "93 69141.49311941963\n",
      "94 69141.49210659832\n",
      "95 69141.49111306577\n",
      "96 69141.49013827993\n",
      "97 69141.48918171978\n",
      "98 69141.48824288379\n",
      "99 69141.48732128806\n",
      "100 69141.48641646627\n"
     ]
    }
   ],
   "source": [
    "no_layers = 2\n",
    "weights_1 = np.random.normal(-1.0, 1.0, size=(len(xtrain_arr[0]), 2*len(xtrain_arr[0])))\n",
    "weights_2 = np.random.normal(-1.0, 1.0, size=(2*len(xtrain_arr[0]), 1))\n",
    "no_epochs = 100\n",
    "learning_rate = 0.2\n",
    "mse = []\n",
    "epoch_inst = 1\n",
    "while(epoch_inst <= no_epochs):\n",
    "    \n",
    "    delta2 = np.zeros(2*len(xtrain_arr[0]))\n",
    "    delta1 = np.zeros((len(xtrain_arr[0]), 2*len(xtrain_arr[0])))\n",
    "    sse = 0\n",
    "    for i in range(len(xtrain_arr)):  ### Row wise iteration\n",
    "        output1 = xtrain_arr[i].dot(weights_1)  ###24 Net inputs to every node (dot product of 12 for each of the 24 nodes & inputs)\n",
    "        output1 = 1/(1+np.exp(-output1)) ### Sigmoid function on all 24 net inputs to 24 nodes of 1st hidden layer\n",
    "        output2 = output1.dot(weights_2) ### dot products of 24 outputs from 24 nodes and 24 weights to get 1 final output\n",
    "        output2 = 1/(1+np.exp(-output2)) ### sigmoid function on output of output node\n",
    "        sse = sse + (y_train_arr[i]-output2[0])**2\n",
    "        for j in range(len(weights_2)): ### Backpropogation to calculate & summate delta for each of the 24 weights of output node\n",
    "            delta2[j] = delta2[j]+ (-1*(y_train_arr[i]-output2[0])*output2[0]*(1-output2[0])*output1[j])\n",
    "    \n",
    "        ## Backpropogation to calculate & sum delta for each of the 12 weights on all 24 nodes \n",
    "        for k in range(len(delta1[0])): \n",
    "            for l in range(len(delta1)):\n",
    "                delta1[l][k] = delta1[l][k] + (-1*((y_train_arr[i]-output2[0])*output2[0]*(1-output2[0])*weights_2[k])*output1[k]*(1-output1[k])*xtrain_arr[i][l])\n",
    "\n",
    "    ### Appending MSE after 1 epoch, i.e. after obtaining sse over entire batch\n",
    "    print(epoch_inst,sse/len(xtrain_arr))\n",
    "    mse.append(sse/len(xtrain_arr))\n",
    "    \n",
    "    ### Updating Weights2 and Weights1 after 1 epoch for batch gradient descent, i.e after running over all the rows after the end of inner for loop\n",
    "    ### Weight is updated by taking average delta and multiplying with learning rate\n",
    "    for t in range(len(weights_2)):\n",
    "        #if delta2[t] > 0:\n",
    "        weights_2[t] = weights_2[t] - learning_rate*(delta2[t]/len(xtrain_arr))\n",
    "        #else:\n",
    "        #    weights_2[t] = weights_2[t] - learning_rate*(delta2[t]/len(xtrain_arr))\n",
    "    for x in range(len(weights_1)):\n",
    "        for y in range(len(weights_1[0])):\n",
    "            #if delta1[x][y] > 0:\n",
    "            weights_1[x][y] = weights_1[x][y] - learning_rate*(delta1[x][y]/len(xtrain_arr))\n",
    "            #else:\n",
    "                #weights_1[x][y] = weights_1[x][y] - learning_rate*(delta1[x][y]/len(xtrain_arr))\n",
    "    epoch_inst = epoch_inst+1"
   ]
  },
  {
   "cell_type": "code",
   "execution_count": null,
   "metadata": {},
   "outputs": [],
   "source": []
  }
 ],
 "metadata": {
  "kernelspec": {
   "display_name": "Python 3",
   "language": "python",
   "name": "python3"
  },
  "language_info": {
   "codemirror_mode": {
    "name": "ipython",
    "version": 3
   },
   "file_extension": ".py",
   "mimetype": "text/x-python",
   "name": "python",
   "nbconvert_exporter": "python",
   "pygments_lexer": "ipython3",
   "version": "3.7.4"
  }
 },
 "nbformat": 4,
 "nbformat_minor": 2
}
