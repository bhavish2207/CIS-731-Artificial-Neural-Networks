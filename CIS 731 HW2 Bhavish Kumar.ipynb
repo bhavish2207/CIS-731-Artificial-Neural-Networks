{
 "cells": [
  {
   "cell_type": "markdown",
   "metadata": {},
   "source": [
    "# HOMEWORK 2\n",
    "\n",
    "#### Submitted By: Bhavish Kumar\n",
    "\n",
    "#### Date: 13th October 2020\n",
    "\n",
    "### In this homework, we compare the performance of Plain Backpropagation, BPTT, LSTM & GRU networks on a time-series forecasting problem. \n",
    "#### We will be using daily stock prices of Tesla from October 10th 2016 to October 9th 2020 (4 years of daily stock prices)"
   ]
  },
  {
   "cell_type": "code",
   "execution_count": 2,
   "metadata": {},
   "outputs": [],
   "source": [
    "from __future__ import print_function\n",
    "import pandas as pd\n",
    "import argparse\n",
    "import torch\n",
    "import torch.nn as nn\n",
    "import torch.nn.functional as F\n",
    "import torch.optim as optim\n",
    "##from torchvision import datasets, transforms\n",
    "from torch.optim.lr_scheduler import StepLR\n",
    "import math\n",
    "import matplotlib.pyplot as plt\n",
    "import numpy as np\n",
    "from sklearn.preprocessing import MinMaxScaler"
   ]
  },
  {
   "cell_type": "markdown",
   "metadata": {},
   "source": [
    "### Reading the Dataset into a pandas dataframe\n",
    "##### The dataset contains 7 attributes in total, but we are only interested in \"Adj Close\", which is the closing price of Tesla's stock on the corresponding day. This is a time series dataset which shows the variation of Tesla's daily stock over time"
   ]
  },
  {
   "cell_type": "code",
   "execution_count": 4,
   "metadata": {},
   "outputs": [
    {
     "data": {
      "text/html": [
       "<div>\n",
       "<style scoped>\n",
       "    .dataframe tbody tr th:only-of-type {\n",
       "        vertical-align: middle;\n",
       "    }\n",
       "\n",
       "    .dataframe tbody tr th {\n",
       "        vertical-align: top;\n",
       "    }\n",
       "\n",
       "    .dataframe thead th {\n",
       "        text-align: right;\n",
       "    }\n",
       "</style>\n",
       "<table border=\"1\" class=\"dataframe\">\n",
       "  <thead>\n",
       "    <tr style=\"text-align: right;\">\n",
       "      <th></th>\n",
       "      <th>Date</th>\n",
       "      <th>Open</th>\n",
       "      <th>High</th>\n",
       "      <th>Low</th>\n",
       "      <th>Close</th>\n",
       "      <th>Adj Close</th>\n",
       "      <th>Volume</th>\n",
       "    </tr>\n",
       "  </thead>\n",
       "  <tbody>\n",
       "    <tr>\n",
       "      <td>0</td>\n",
       "      <td>2016-10-10</td>\n",
       "      <td>40.270000</td>\n",
       "      <td>40.827999</td>\n",
       "      <td>39.931999</td>\n",
       "      <td>40.189999</td>\n",
       "      <td>40.189999</td>\n",
       "      <td>16581500</td>\n",
       "    </tr>\n",
       "    <tr>\n",
       "      <td>1</td>\n",
       "      <td>2016-10-11</td>\n",
       "      <td>40.369999</td>\n",
       "      <td>40.439999</td>\n",
       "      <td>39.661999</td>\n",
       "      <td>40.020000</td>\n",
       "      <td>40.020000</td>\n",
       "      <td>11642000</td>\n",
       "    </tr>\n",
       "    <tr>\n",
       "      <td>2</td>\n",
       "      <td>2016-10-12</td>\n",
       "      <td>40.189999</td>\n",
       "      <td>40.776001</td>\n",
       "      <td>40.084000</td>\n",
       "      <td>40.301998</td>\n",
       "      <td>40.301998</td>\n",
       "      <td>9853500</td>\n",
       "    </tr>\n",
       "    <tr>\n",
       "      <td>3</td>\n",
       "      <td>2016-10-13</td>\n",
       "      <td>40.099998</td>\n",
       "      <td>40.180000</td>\n",
       "      <td>39.410000</td>\n",
       "      <td>40.048000</td>\n",
       "      <td>40.048000</td>\n",
       "      <td>12473000</td>\n",
       "    </tr>\n",
       "    <tr>\n",
       "      <td>4</td>\n",
       "      <td>2016-10-14</td>\n",
       "      <td>40.132000</td>\n",
       "      <td>40.285999</td>\n",
       "      <td>39.259998</td>\n",
       "      <td>39.301998</td>\n",
       "      <td>39.301998</td>\n",
       "      <td>21349500</td>\n",
       "    </tr>\n",
       "  </tbody>\n",
       "</table>\n",
       "</div>"
      ],
      "text/plain": [
       "         Date       Open       High        Low      Close  Adj Close    Volume\n",
       "0  2016-10-10  40.270000  40.827999  39.931999  40.189999  40.189999  16581500\n",
       "1  2016-10-11  40.369999  40.439999  39.661999  40.020000  40.020000  11642000\n",
       "2  2016-10-12  40.189999  40.776001  40.084000  40.301998  40.301998   9853500\n",
       "3  2016-10-13  40.099998  40.180000  39.410000  40.048000  40.048000  12473000\n",
       "4  2016-10-14  40.132000  40.285999  39.259998  39.301998  39.301998  21349500"
      ]
     },
     "execution_count": 4,
     "metadata": {},
     "output_type": "execute_result"
    }
   ],
   "source": [
    "df = pd.read_csv(\"TSLA daily closing stock.csv\")\n",
    "df.head()"
   ]
  },
  {
   "cell_type": "markdown",
   "metadata": {},
   "source": [
    "##### Dropping the unnecessary columns which we are not interested in"
   ]
  },
  {
   "cell_type": "code",
   "execution_count": 5,
   "metadata": {
    "scrolled": true
   },
   "outputs": [
    {
     "data": {
      "text/html": [
       "<div>\n",
       "<style scoped>\n",
       "    .dataframe tbody tr th:only-of-type {\n",
       "        vertical-align: middle;\n",
       "    }\n",
       "\n",
       "    .dataframe tbody tr th {\n",
       "        vertical-align: top;\n",
       "    }\n",
       "\n",
       "    .dataframe thead th {\n",
       "        text-align: right;\n",
       "    }\n",
       "</style>\n",
       "<table border=\"1\" class=\"dataframe\">\n",
       "  <thead>\n",
       "    <tr style=\"text-align: right;\">\n",
       "      <th></th>\n",
       "      <th>Adj Close</th>\n",
       "    </tr>\n",
       "  </thead>\n",
       "  <tbody>\n",
       "    <tr>\n",
       "      <td>0</td>\n",
       "      <td>40.189999</td>\n",
       "    </tr>\n",
       "    <tr>\n",
       "      <td>1</td>\n",
       "      <td>40.020000</td>\n",
       "    </tr>\n",
       "    <tr>\n",
       "      <td>2</td>\n",
       "      <td>40.301998</td>\n",
       "    </tr>\n",
       "    <tr>\n",
       "      <td>3</td>\n",
       "      <td>40.048000</td>\n",
       "    </tr>\n",
       "    <tr>\n",
       "      <td>4</td>\n",
       "      <td>39.301998</td>\n",
       "    </tr>\n",
       "  </tbody>\n",
       "</table>\n",
       "</div>"
      ],
      "text/plain": [
       "   Adj Close\n",
       "0  40.189999\n",
       "1  40.020000\n",
       "2  40.301998\n",
       "3  40.048000\n",
       "4  39.301998"
      ]
     },
     "execution_count": 5,
     "metadata": {},
     "output_type": "execute_result"
    }
   ],
   "source": [
    "df = df.drop(columns=['Date', 'Open','High','Low','Close','Volume'])\n",
    "df.head()"
   ]
  },
  {
   "cell_type": "markdown",
   "metadata": {},
   "source": [
    "#### 0 Missing values in the data"
   ]
  },
  {
   "cell_type": "code",
   "execution_count": 6,
   "metadata": {},
   "outputs": [
    {
     "data": {
      "text/plain": [
       "Adj Close    0\n",
       "dtype: int64"
      ]
     },
     "execution_count": 6,
     "metadata": {},
     "output_type": "execute_result"
    }
   ],
   "source": [
    "df.isna().sum()"
   ]
  },
  {
   "cell_type": "markdown",
   "metadata": {},
   "source": [
    "##### By looking at the trend of Tesla Stock Prices, we can observe that the stock prices have shot up exponentially in the last 200 days"
   ]
  },
  {
   "cell_type": "code",
   "execution_count": 7,
   "metadata": {
    "scrolled": true
   },
   "outputs": [
    {
     "data": {
      "text/plain": [
       "[<matplotlib.lines.Line2D at 0x2445b1f3fc8>]"
      ]
     },
     "execution_count": 7,
     "metadata": {},
     "output_type": "execute_result"
    },
    {
     "data": {
      "image/png": "[encoded data removed]",
      "text/plain": [
       "<Figure size 432x288 with 1 Axes>"
      ]
     },
     "metadata": {
      "needs_background": "light"
     },
     "output_type": "display_data"
    }
   ],
   "source": [
    "plt.plot(df[\"Adj Close\"])"
   ]
  },
  {
   "cell_type": "markdown",
   "metadata": {},
   "source": [
    "# Data PreProcessing"
   ]
  },
  {
   "cell_type": "markdown",
   "metadata": {},
   "source": [
    "### 1. Splitting the data into Train and Test"
   ]
  },
  {
   "cell_type": "code",
   "execution_count": 8,
   "metadata": {
    "scrolled": true
   },
   "outputs": [
    {
     "data": {
      "text/plain": [
       "1008"
      ]
     },
     "execution_count": 8,
     "metadata": {},
     "output_type": "execute_result"
    }
   ],
   "source": [
    "len(df)"
   ]
  },
  {
   "cell_type": "markdown",
   "metadata": {},
   "source": [
    "##### Using the first 830 data points for Training and the last 178 data points for Testing"
   ]
  },
  {
   "cell_type": "code",
   "execution_count": 9,
   "metadata": {},
   "outputs": [],
   "source": [
    "train_df = df.iloc[:830,]\n",
    "test_df = df.iloc[825:,]"
   ]
  },
  {
   "cell_type": "code",
   "execution_count": 10,
   "metadata": {},
   "outputs": [
    {
     "name": "stdout",
     "output_type": "stream",
     "text": [
      "      Adj Close\n",
      "0     40.189999\n",
      "1     40.020000\n",
      "2     40.301998\n",
      "3     40.048000\n",
      "4     39.301998\n",
      "..          ...\n",
      "825  113.912003\n",
      "826  114.440002\n",
      "827  112.963997\n",
      "828  111.603996\n",
      "829  113.379997\n",
      "\n",
      "[830 rows x 1 columns]\n",
      "       Adj Close\n",
      "825   113.912003\n",
      "826   114.440002\n",
      "827   112.963997\n",
      "828   111.603996\n",
      "829   113.379997\n",
      "...          ...\n",
      "1003  425.679993\n",
      "1004  413.980011\n",
      "1005  425.299988\n",
      "1006  425.920013\n",
      "1007  434.000000\n",
      "\n",
      "[183 rows x 1 columns]\n"
     ]
    }
   ],
   "source": [
    "print(train_df)\n",
    "print(test_df)"
   ]
  },
  {
   "cell_type": "markdown",
   "metadata": {},
   "source": [
    "### 2. Normalize the data"
   ]
  },
  {
   "cell_type": "markdown",
   "metadata": {},
   "source": [
    "#### Using Min Max scaler to scale down all the stock values between 0 and 1 scale so as to simplify the learning process which might otherwise be very difficult with a wide range of values\n",
    "\n",
    "##### Fitting the scaler on train data, i.e. taking the min & max values from train data and applying the same transformation on to test data"
   ]
  },
  {
   "cell_type": "code",
   "execution_count": 11,
   "metadata": {},
   "outputs": [],
   "source": [
    "scaler = MinMaxScaler()\n",
    "scaler = scaler.fit(train_df)\n",
    "train_df = scaler.transform(train_df)\n",
    "test_df = scaler.transform(test_df)\n",
    "#dfTest[['A', 'B']] = scaler.fit_transform(dfTest[['A', 'B']])"
   ]
  },
  {
   "cell_type": "markdown",
   "metadata": {},
   "source": [
    "### 3. Creating X train, Y train and X_test, Y_test datasets by using previous \"n\" days stock price values as input to predict the stock price on day (n+1)"
   ]
  },
  {
   "cell_type": "code",
   "execution_count": 13,
   "metadata": {},
   "outputs": [],
   "source": [
    "def data_prep(data_arr, input_seq_len):\n",
    "    x_arr = []\n",
    "    y_arr = []\n",
    "    for i in range(len(data_arr)-input_seq_len):\n",
    "        x_arr.append(data_arr[i:i+input_seq_len])\n",
    "        y_arr.append(data_arr[i+input_seq_len])\n",
    "    return np.array(x_arr), np.array(y_arr)"
   ]
  },
  {
   "cell_type": "markdown",
   "metadata": {},
   "source": [
    "#### Using previous 5 days stock prices as input to predict the stock price on 6th day"
   ]
  },
  {
   "cell_type": "code",
   "execution_count": 14,
   "metadata": {},
   "outputs": [],
   "source": [
    "x_train, y_train = data_prep(train_df,5)\n",
    "x_test, y_test = data_prep(test_df, 5)"
   ]
  },
  {
   "cell_type": "code",
   "execution_count": 15,
   "metadata": {},
   "outputs": [
    {
     "name": "stdout",
     "output_type": "stream",
     "text": [
      "825\n",
      "825\n",
      "178\n",
      "178\n"
     ]
    }
   ],
   "source": [
    "print(len(x_train))\n",
    "print(len(y_train))\n",
    "print(len(x_test))\n",
    "print(len(y_test))"
   ]
  },
  {
   "cell_type": "markdown",
   "metadata": {},
   "source": [
    "### 4. Creating a Tensor Object using the DataLoader function and specifying the batch size to perform mini-batch gradient descent.\n",
    "#### The algorithm will update weights after each batch.\n",
    "##### Here the train_loader dataset has the predictor variables and the target variable in it. Setting Shuffle = False to maintain the sequence of Time Series"
   ]
  },
  {
   "cell_type": "code",
   "execution_count": 16,
   "metadata": {},
   "outputs": [],
   "source": [
    "train_target = torch.tensor(y_train.astype(np.float32))\n",
    "train = torch.tensor(x_train.astype(np.float32)) \n",
    "train_tensor = torch.utils.data.TensorDataset(train, train_target) \n",
    "train_loader = torch.utils.data.DataLoader(dataset = train_tensor, batch_size = math.ceil(len(train)/10), shuffle = False)"
   ]
  },
  {
   "cell_type": "code",
   "execution_count": 17,
   "metadata": {
    "scrolled": true
   },
   "outputs": [
    {
     "data": {
      "text/plain": [
       "torch.Size([825, 5, 1])"
      ]
     },
     "execution_count": 17,
     "metadata": {},
     "output_type": "execute_result"
    }
   ],
   "source": [
    "train.shape"
   ]
  },
  {
   "cell_type": "markdown",
   "metadata": {},
   "source": [
    "#### Doing the same on test data, but without batches. We will be calculating test_mse as a whole on the entire test dataset"
   ]
  },
  {
   "cell_type": "code",
   "execution_count": 18,
   "metadata": {},
   "outputs": [],
   "source": [
    "test_target = torch.tensor(y_test.astype(np.float32))\n",
    "test = torch.tensor(x_test.astype(np.float32)) \n",
    "test_tensor = torch.utils.data.TensorDataset(test, test_target) \n",
    "test_loader = torch.utils.data.DataLoader(dataset = test_tensor, batch_size = len(test),shuffle = False)"
   ]
  },
  {
   "cell_type": "code",
   "execution_count": 19,
   "metadata": {},
   "outputs": [
    {
     "data": {
      "text/plain": [
       "torch.Size([178, 5, 1])"
      ]
     },
     "execution_count": 19,
     "metadata": {},
     "output_type": "execute_result"
    }
   ],
   "source": [
    "test.shape"
   ]
  },
  {
   "cell_type": "markdown",
   "metadata": {},
   "source": [
    "# A. Forecasting using Plain Backpropagation"
   ]
  },
  {
   "cell_type": "markdown",
   "metadata": {},
   "source": [
    "### In this we build a Feed Forward Neural Network with 1 hidden layer & train the model using plain backpropagation. We will implement this using PyTorch"
   ]
  },
  {
   "cell_type": "markdown",
   "metadata": {},
   "source": [
    "#### ** Detailed Explanation of ANN implementation using PyTorch **\n",
    "We inherit from nn.Module and then use super().init() method to get a class that tracks the architecture and provides a lot of useful methods and attributes. It is mandatory to inherit from nn.Module.\n",
    "The module automatically creates the weight and bias tensors as soon as we call the nn.Linear() function. We'll use these weights and bias in the forward method. The nn.Linear() function thus creates a linear transformation with the given number of inputs and outputs. The 1st parameter is the number of inputs to the layer (equal to number of attributes in data, for 1st hidden layer) and the 2nd parameter is the number of outputs from the layer (basically equal to the number of nodes in a given layer)\n",
    "The forward method takes in the data/tensor 'x' and passes through layers created in the init method and produces the required output after applying the required activation functions."
   ]
  },
  {
   "cell_type": "code",
   "execution_count": 20,
   "metadata": {},
   "outputs": [],
   "source": [
    "class ann(nn.Module):    ## We are inheriting from nn.Module\n",
    "    def __init__(self, ):\n",
    "        super().__init__()\n",
    "        self.hidden_layer1 = nn.Linear(train.shape[1], 2*train.shape[1])  ## 1st hidden layer with 'd' inputs & '2d' outputs\n",
    "        self.oput_layer = nn.Linear(2*train.shape[1],1) ## output layer with '2d' inputs from hidden layer and 1 output\n",
    "        \n",
    "        self.sigmoid = nn.Sigmoid()  ## Define Sigmoid Activation function\n",
    "        \n",
    "    def forward(self, x):\n",
    "        # Computes the outputs / predictions\n",
    "        out = F.sigmoid(self.hidden_layer1(x))  ## Compute output of 1st hidden layer after applying the Sigmoid function\n",
    "        output = self.oput_layer(out)   ## compute output of output layer\n",
    "        return output"
   ]
  },
  {
   "cell_type": "markdown",
   "metadata": {},
   "source": [
    "#### Writing a function which can be invoked to calculate Test MSE on the entire test dataset after every weight update using the model"
   ]
  },
  {
   "cell_type": "code",
   "execution_count": 21,
   "metadata": {},
   "outputs": [],
   "source": [
    "def test_mse(model):\n",
    "    criterion = nn.MSELoss()\n",
    "    with torch.no_grad():\n",
    "        for inputs,targets in test_loader:\n",
    "            inputs = inputs.view(inputs.size(0), inputs.size(1))\n",
    "            output = model(inputs)\n",
    "            loss = criterion(output, targets)\n",
    "    return loss.item()"
   ]
  },
  {
   "cell_type": "markdown",
   "metadata": {},
   "source": [
    "#### Training the model"
   ]
  },
  {
   "cell_type": "code",
   "execution_count": 22,
   "metadata": {},
   "outputs": [
    {
     "name": "stderr",
     "output_type": "stream",
     "text": [
      "C:\\Users\\bhavi\\AppData\\Local\\Continuum\\anaconda3\\lib\\site-packages\\torch\\nn\\functional.py:1625: UserWarning: nn.functional.sigmoid is deprecated. Use torch.sigmoid instead.\n",
      "  warnings.warn(\"nn.functional.sigmoid is deprecated. Use torch.sigmoid instead.\")\n"
     ]
    }
   ],
   "source": [
    "model = ann()  ### Initiate the ANN class object named model\n",
    "\n",
    "criterion = nn.MSELoss()  ### Define the loss function which is Mean Squared Error\n",
    "\n",
    "optimizer = optim.Adam(model.parameters(), lr=0.005) # Optimizers require the model parameters to optimize and a learning rate\n",
    "\n",
    "epochs = 1000\n",
    "train_MSE_aft_weight_upd = []  ### List to store MSE after every weight update i.e. after every batch\n",
    "test_MSE_aft_weight_upd = [] ### List to store the Test MSE after every weight update, i.e. after every batch\n",
    "\n",
    "### Training the dataset.\n",
    "for e in range(epochs):\n",
    "    for inputs,targets in train_loader:    \n",
    "           # Training pass\n",
    "        inputs = inputs.view(inputs.size(0), inputs.size(1)) ### Changing shape of input to have batch size as 1st param & seqlen(no of lags) as 2nd \n",
    "        output = model(inputs)   ### Obtaining the outputs for every row of the batch using the model built in ann class\n",
    "        loss = criterion(output, targets) ### Calculating the Loss for every row of the batch using the obtained output & target\n",
    "        loss.backward()   ### Backpropogating based on the loss \n",
    "        optimizer.step()  ### Updating the weights based on the gradient using the optimizer.step() function\n",
    "        optimizer.zero_grad() ### Erasing the gradient values after every weight update\n",
    "        train_MSE_aft_weight_upd.append(loss.item())\n",
    "        test_MSE_aft_weight_upd.append(test_mse(model))"
   ]
  },
  {
   "cell_type": "markdown",
   "metadata": {},
   "source": [
    "#### We can observe that the Plain Backpropagation model is converging after around 1000 epochs and 10,000 weight updates\n",
    "###### **NOTE: The Training MSE is much lower than Test MSE because the test data values are of a much larger range due to an exponential rise in Tesla Stock prices in the latest few days which is being used for Testing**"
   ]
  },
  {
   "cell_type": "code",
   "execution_count": 23,
   "metadata": {
    "scrolled": true
   },
   "outputs": [
    {
     "data": {
      "image/png": "[encoded data removed]",
      "text/plain": [
       "<Figure size 432x288 with 1 Axes>"
      ]
     },
     "metadata": {
      "needs_background": "light"
     },
     "output_type": "display_data"
    }
   ],
   "source": [
    "### The number of weight updates = number of batches x number of epochs\n",
    "weight_updates = [el for el in range(math.ceil(len(train)/math.ceil(len(train)/10))*epochs)]\n",
    "\n",
    "fig = plt.figure()\n",
    "ax1 = fig.add_subplot(111)\n",
    "ax1.plot(weight_updates, train_MSE_aft_weight_upd)\n",
    "ax1.plot(weight_updates, test_MSE_aft_weight_upd)\n",
    "#ax1.set_xticks(weight_updates)\n",
    "#ax1.set_xticklabels(weight_updates)\n",
    "plt.legend(['Train MSE after every weight update', 'Test MSE after every weight update'], loc='upper right')\n",
    "plt.title('MSE after every Weight Updation')\n",
    "plt.xlabel('Number of Weight Updations')\n",
    "plt.ylabel('MSE')\n",
    "plt.show()\n",
    "\n",
    "\n",
    "#plt.plot(weight_updates,MSE)\n",
    "#plt.show()"
   ]
  },
  {
   "cell_type": "markdown",
   "metadata": {},
   "source": [
    "### The final Test MSE obtained using a fully trained model using Plain BackPropagation is as shown below"
   ]
  },
  {
   "cell_type": "code",
   "execution_count": 24,
   "metadata": {},
   "outputs": [
    {
     "data": {
      "text/plain": [
       "1.6235524415969849"
      ]
     },
     "execution_count": 24,
     "metadata": {},
     "output_type": "execute_result"
    }
   ],
   "source": [
    "test_mse_plain_backprop = test_mse(model)\n",
    "test_mse_plain_backprop"
   ]
  },
  {
   "cell_type": "markdown",
   "metadata": {},
   "source": [
    "### Calculating the Computational Effort (Number of Weight Updates) required to obtain the desirable Test MSE of <= 1.95 for PLAIN BACKPROPAGATION\n",
    "##### As shown below, the Plain Backpropagation algorithm requires 926 Epochs & 9,262 weight updates to attain a desirable MSE of <= 1.95"
   ]
  },
  {
   "cell_type": "code",
   "execution_count": 26,
   "metadata": {},
   "outputs": [
    {
     "name": "stdout",
     "output_type": "stream",
     "text": [
      "Number of Epochs elapsed =  926 Number of batches elapsed in current epoch =  2\n",
      "Total Number of Weight Updates/Computational Effort =  9262\n"
     ]
    }
   ],
   "source": [
    "plain_bp_model_comp_effort = ann()  ### Initiate the ANN class object named plain_bp_model_comp_effort\n",
    "\n",
    "criterion = nn.MSELoss()  ### Define the loss function which is Mean Squared Error\n",
    "\n",
    "optimizer = optim.Adam(plain_bp_model_comp_effort.parameters(), lr=0.005) # Optimizers require the model parameters to optimize and a learning rate\n",
    "\n",
    "epochs = 1000\n",
    "\n",
    "### Training the dataset.\n",
    "for e in range(1,epochs+1):\n",
    "    batch_no = 0\n",
    "    breaking_inner = 0\n",
    "    for inputs,targets in train_loader:   \n",
    "        batch_no = batch_no + 1\n",
    "        # Training pass\n",
    "        inputs = inputs.view(inputs.size(0), inputs.size(1))\n",
    "        output = plain_bp_model_comp_effort(inputs)   ### Obtaining the outputs for every row of the batch using the model built in ann class\n",
    "        loss = criterion(output, targets) ### Calculating the Loss for every row of the batch using the obtained output & target\n",
    "        loss.backward()   ### Backpropogating based on the loss \n",
    "        optimizer.step()  ### Updating the weights based on the gradient using the optimizer.step() function\n",
    "        optimizer.zero_grad() ### Erasing the gradient values after every weight update\n",
    "        if test_mse(plain_bp_model_comp_effort) <= 1.95:\n",
    "            breaking_inner = 1\n",
    "            break\n",
    "    if breaking_inner == 1:\n",
    "        break ### Break from the outer loop if we break from the inner loop also and then run for the next value of number of nodes\n",
    "\n",
    "### Number of weight updates that have happened so far = product of number of batches & epochs iterated through + batch no of current epoch\n",
    "No_weight_updates_plain_bp = (e * 10) + batch_no ### Since there are 10 batches in total\n",
    "print(\"Number of Epochs elapsed = \",e,\"Number of batches elapsed in current epoch = \", batch_no)\n",
    "print(\"Total Number of Weight Updates/Computational Effort = \",No_weight_updates_plain_bp)"
   ]
  },
  {
   "cell_type": "markdown",
   "metadata": {},
   "source": [
    "### Plotting Actual Stock Prices and Forecasted/Predicted Stock Prices over time"
   ]
  },
  {
   "cell_type": "code",
   "execution_count": 27,
   "metadata": {},
   "outputs": [],
   "source": [
    "### OBTAINING PREDICTED STOCK PRICE VALUES\n",
    "predicted_oput_plain_bp = []\n",
    "with torch.no_grad():\n",
    "    for inputs,targets in test_loader:\n",
    "        inputs = inputs.view(inputs.size(0), inputs.size(1))\n",
    "        output = model(inputs)   ### Here 'model' is the fully trained model using plain backpropagation\n",
    "        predicted_oput_plain_bp.append(output)"
   ]
  },
  {
   "cell_type": "markdown",
   "metadata": {},
   "source": [
    "##### Obtaining a Flat list for both Predicted Values and Actual Values"
   ]
  },
  {
   "cell_type": "code",
   "execution_count": 28,
   "metadata": {
    "scrolled": true
   },
   "outputs": [],
   "source": [
    "predicted_oput_plain_bp_lst = []\n",
    "for i in range(len(y_test)):\n",
    "    predicted_oput_plain_bp_lst.append(predicted_oput_plain_bp[0][i][0].tolist())"
   ]
  },
  {
   "cell_type": "code",
   "execution_count": 29,
   "metadata": {},
   "outputs": [],
   "source": [
    "flat_list_ytest = [item for sublist in y_test.tolist() for item in sublist]"
   ]
  },
  {
   "cell_type": "markdown",
   "metadata": {},
   "source": [
    "##### From the below time series plot we can observe that Plain BackPropagation with 5 previous stock prices as input is not able to produce very good forecast estimates, as we can see that after 100th day, the actual prices are shooting up largely but the forecasted values are not following the same trend"
   ]
  },
  {
   "cell_type": "code",
   "execution_count": 247,
   "metadata": {
    "scrolled": false
   },
   "outputs": [
    {
     "data": {
      "image/png": "[encoded data removed]",
      "text/plain": [
       "<Figure size 432x288 with 1 Axes>"
      ]
     },
     "metadata": {
      "needs_background": "light"
     },
     "output_type": "display_data"
    }
   ],
   "source": [
    "### The number of weight updates = number of batches x number of epochs\n",
    "time_point = [el for el in range(1,179)]\n",
    "\n",
    "fig = plt.figure()\n",
    "ax1 = fig.add_subplot(111)\n",
    "ax1.plot(time_point, predicted_oput_plain_bp_lst)\n",
    "ax1.plot(time_point, flat_list_ytest)\n",
    "#ax1.set_xticks(weight_updates)\n",
    "#ax1.set_xticklabels(weight_updates)\n",
    "plt.legend(['Forecasted value', 'Actual Value'], loc='upper right')\n",
    "plt.title('Actual and Forecasted Stock values using Plain Backpropagation')\n",
    "plt.xlabel('Time Point')\n",
    "plt.ylabel('Normalized Stock Price')\n",
    "plt.show()\n",
    "\n",
    "\n",
    "#plt.plot(weight_updates,MSE)\n",
    "#plt.show()"
   ]
  },
  {
   "cell_type": "markdown",
   "metadata": {},
   "source": [
    "# B. Forecasting using Backpropagation through Time (Recurrent Neural Network)\n",
    "#### Implementing RNN with Backpropagation through time\n",
    "##### ** Explaining the PyTorch Implementation of RNN **\n",
    "The init method takes the input size which is the number of features, the number of RNN nodes (hidden_dim), number of RNN layers as parameters. We then define the RNN layer with input size as 1 since we have only feature for our univariate problem, we then specify the hidden_size as 10 creating 10 nodes for the RNN and then create 1 RNN layer. The 'tanh' activation function is applied on the RNN layer. This RNN layer is followed by a Linear layer which takes in 10 inputs coming from the 10 RNN nodes and produces 1 output.\n",
    "Then in the forward method, which is where the forward pass takes place, we first initialize a tensor of zeroes for the hidden state of the RNN layer. The hidden state tensor data has the dimensions of number of layers, batch size and number of nodes. The tanh activation function is applied on the sum of dot products of hidden state, weights and input, weights. This output has the dimensions of batch_size, sequence_length & number of nodes. Hence we apply the slicer out[:,-1,:] to pick the last output from sequence and so the RNN layer only produces output of dimensions (batch_size, number of nodes). This sliced 10 dimensional output is paased to the linear output layer to produce 1 single output per row of a batch. The BPTT algorithm requires 1 hidden state for every node of a layer. In next section of LSTM we will have to use 2 hidden states as a LSTM cell contains two hidden states."
   ]
  },
  {
   "cell_type": "code",
   "execution_count": 189,
   "metadata": {},
   "outputs": [],
   "source": [
    "class RNN_Model(nn.Module):\n",
    "    def __init__(self, input_size, hidden_dim, n_layers,seq_len):\n",
    "        super(RNN_Model, self).__init__()\n",
    "\n",
    "        # Defining some parameters\n",
    "        self.input_size = input_size\n",
    "        self.hidden_dim = hidden_dim\n",
    "        self.n_layers = n_layers\n",
    "        self.seq_len = seq_len\n",
    "        \n",
    "\n",
    "        #Defining the layers\n",
    "        # RNN Layer\n",
    "        self.rnn = nn.RNN(input_size = input_size, hidden_size = hidden_dim,num_layers = n_layers,\n",
    "                          batch_first=True, nonlinearity='tanh')   \n",
    "        # Fully connected layer\n",
    "        self.fc = nn.Linear(hidden_dim, 1)\n",
    "    \n",
    "    \n",
    "    #def reset_hidden(self):\n",
    "        # This method generates the first hidden state of zeros which we'll use in the forward pass\n",
    "        # We'll send the tensor holding the hidden state to the device we specified earlier as well\n",
    "    #    self.hidden = (torch.zeros(self.n_layers, self.seq_len, self.hidden_dim))\n",
    "    \n",
    "    def forward(self, x):\n",
    "        \n",
    "        batch_size = x.size(0)\n",
    "\n",
    "        # Initializing hidden state for first input using method defined below\n",
    "        hidden = self.init_hidden(batch_size)\n",
    "\n",
    "        # Passing in the input and hidden state into the model and obtaining outputs\n",
    "        out, _ = self.rnn(x, hidden)\n",
    "        \n",
    "        out_final = self.fc(out[:,-1,:])\n",
    "        \n",
    "        return out_final\n",
    "    \n",
    "    def init_hidden(self, batch_size):\n",
    "        # This method generates the first hidden state of zeros which we'll use in the forward pass\n",
    "        # We'll send the tensor holding the hidden state to the device we specified earlier as well\n",
    "        hidden = (torch.zeros(self.n_layers, batch_size, self.hidden_dim))\n",
    "        return hidden"
   ]
  },
  {
   "cell_type": "markdown",
   "metadata": {},
   "source": [
    "#### Function to calculate Test MSE on the whole test dataset when invoked"
   ]
  },
  {
   "cell_type": "code",
   "execution_count": 190,
   "metadata": {},
   "outputs": [],
   "source": [
    "def test_mse_rnn(model):\n",
    "    criterion = nn.MSELoss()\n",
    "    with torch.no_grad():\n",
    "        for inputs,targets in test_loader:\n",
    "            output = model(inputs)\n",
    "            loss = criterion(output, targets)\n",
    "    return loss.item()"
   ]
  },
  {
   "cell_type": "markdown",
   "metadata": {},
   "source": [
    "#### Training the model"
   ]
  },
  {
   "cell_type": "code",
   "execution_count": 250,
   "metadata": {},
   "outputs": [],
   "source": [
    "input_size = 1\n",
    "hidden_dim = 10\n",
    "n_layers = 1\n",
    "seq_len = 5\n",
    "model_bptt = RNN_Model(input_size,hidden_dim,n_layers,seq_len)  ### Initiate the RNN class object named model_bptt\n",
    "\n",
    "criterion = nn.MSELoss()  ### Define the loss function which is Mean Squared Error\n",
    "\n",
    "optimizer = optim.Adam(model_bptt.parameters(), lr=0.005) # Optimizers require the model parameters to optimize and a learning rate\n",
    "\n",
    "epochs = 200\n",
    "train_MSE_aft_weight_upd_bptt = []  ### List to store MSE after every weight update i.e. after every batch\n",
    "test_MSE_aft_weight_upd_bptt = [] ### List to store the Test MSE after every weight update, i.e. after every batch\n",
    "\n",
    "### Training the dataset.\n",
    "for e in range(epochs):\n",
    "   # model_bptt.reset_hidden()\n",
    "    for inputs,targets in train_loader:    \n",
    "           # Training pass\n",
    "        output = model_bptt(inputs)   ### Obtaining the outputs for every row of the batch using the model built in ann class\n",
    "        loss = criterion(output, targets) ### Calculating the Loss for every row of the batch using the obtained output & target\n",
    "        loss.backward()   ### Backpropogating based on the loss \n",
    "        optimizer.step()  ### Updating the weights based on the gradient using the optimizer.step() function\n",
    "        optimizer.zero_grad() ### Erasing the gradient values after every weight update\n",
    "        train_MSE_aft_weight_upd_bptt.append(loss.item())\n",
    "        test_MSE_aft_weight_upd_bptt.append(test_mse_rnn(model_bptt))"
   ]
  },
  {
   "cell_type": "code",
   "execution_count": 251,
   "metadata": {},
   "outputs": [
    {
     "data": {
      "text/plain": [
       "1.5761833190917969"
      ]
     },
     "execution_count": 251,
     "metadata": {},
     "output_type": "execute_result"
    }
   ],
   "source": [
    "test_MSE_aft_weight_upd_bptt[-1]"
   ]
  },
  {
   "cell_type": "code",
   "execution_count": 252,
   "metadata": {},
   "outputs": [
    {
     "data": {
      "image/png": "[encoded data removed]",
      "text/plain": [
       "<Figure size 432x288 with 1 Axes>"
      ]
     },
     "metadata": {
      "needs_background": "light"
     },
     "output_type": "display_data"
    }
   ],
   "source": [
    "### The number of weight updates = number of batches x number of epochs\n",
    "weight_updates = [el for el in range(math.ceil(len(train)/math.ceil(len(train)/10))*epochs)]\n",
    "\n",
    "fig = plt.figure()\n",
    "ax1 = fig.add_subplot(111)\n",
    "ax1.plot(weight_updates, train_MSE_aft_weight_upd_bptt)\n",
    "ax1.plot(weight_updates, test_MSE_aft_weight_upd_bptt)\n",
    "#ax1.set_xticks(weight_updates)\n",
    "#ax1.set_xticklabels(weight_updates)\n",
    "plt.legend(['Train MSE after every weight update', 'Test MSE after every weight update'], loc='upper right')\n",
    "plt.title('MSE after every Weight Updation for BPTT')\n",
    "plt.xlabel('Number of Weight Updations')\n",
    "plt.ylabel('MSE')\n",
    "plt.show()\n",
    "\n",
    "\n",
    "#plt.plot(weight_updates,MSE)\n",
    "#plt.show()"
   ]
  },
  {
   "cell_type": "markdown",
   "metadata": {},
   "source": [
    "### The final Test MSE obtained using a fully trained BPTT model is as shown below"
   ]
  },
  {
   "cell_type": "code",
   "execution_count": 253,
   "metadata": {},
   "outputs": [
    {
     "data": {
      "text/plain": [
       "1.5761833190917969"
      ]
     },
     "execution_count": 253,
     "metadata": {},
     "output_type": "execute_result"
    }
   ],
   "source": [
    "test_mse_bptt = test_mse_rnn(model_bptt)\n",
    "test_mse_bptt"
   ]
  },
  {
   "cell_type": "markdown",
   "metadata": {},
   "source": [
    "### The Computational Effort (Number of Weight Updates) required to obtain the desirable Test MSE of <= 1.95 for BACKPROPAGATION Through Time"
   ]
  },
  {
   "cell_type": "code",
   "execution_count": 256,
   "metadata": {},
   "outputs": [
    {
     "name": "stdout",
     "output_type": "stream",
     "text": [
      "Number of Epochs elapsed =  261 Number of batches elapsed in current epoch =  2\n",
      "Total Number of Weight Updates/Computational Effort =  2612\n"
     ]
    }
   ],
   "source": [
    "input_size = 1\n",
    "hidden_dim = 10\n",
    "n_layers = 1\n",
    "seq_len = 5\n",
    "bptt_model_comp_effort = RNN_Model(input_size,hidden_dim,n_layers,seq_len)  ### Initiate the RNN class object named bptt_model_comp_effort\n",
    "criterion = nn.MSELoss()  ### Define the loss function which is Mean Squared Error\n",
    "\n",
    "optimizer = optim.Adam(bptt_model_comp_effort.parameters(), lr=0.005) # Optimizers require the model parameters to optimize and a learning rate\n",
    "\n",
    "epochs = 1000\n",
    "\n",
    "### Training the dataset.\n",
    "for e in range(1,epochs+1):\n",
    "    batch_no = 0\n",
    "    breaking_inner = 0\n",
    "    for inputs,targets in train_loader:   \n",
    "        batch_no = batch_no + 1\n",
    "        # Training pass\n",
    "        output = bptt_model_comp_effort(inputs)   ### Obtaining the outputs for every row of the batch using the model built in ann class\n",
    "        loss = criterion(output, targets) ### Calculating the Loss for every row of the batch using the obtained output & target\n",
    "        loss.backward()   ### Obtaining the outputs for every row of the batch using the model built in ann class \n",
    "        optimizer.step()  ### Updating the weights based on the gradient using the optimizer.step() function\n",
    "        optimizer.zero_grad() ### Erasing the gradient values after every weight update\n",
    "        if test_mse_rnn(bptt_model_comp_effort) <= 1.95:\n",
    "            breaking_inner = 1\n",
    "            break\n",
    "    if breaking_inner == 1:\n",
    "        break ### Break from the outer loop if we break from the inner loop also and then run for the next value of number of nodes\n",
    "    \n",
    "### Number of weight updates that have happened so far = product of number of batches & epochs iterated through + batch no of current epoch\n",
    "if e == 1000:\n",
    "    No_weight_updates_bptt = (e * 10)\n",
    "else:\n",
    "    No_weight_updates_bptt = (e * 10) + batch_no ### Since there are 10 batches in total\n",
    "print(\"Number of Epochs elapsed = \",e,\"Number of batches elapsed in current epoch = \", batch_no)\n",
    "print(\"Total Number of Weight Updates/Computational Effort = \",No_weight_updates_bptt)"
   ]
  },
  {
   "cell_type": "markdown",
   "metadata": {},
   "source": [
    "### Plotting Actual Stock Prices and Forecasted/Predicted Stock Prices over time"
   ]
  },
  {
   "cell_type": "code",
   "execution_count": 208,
   "metadata": {},
   "outputs": [],
   "source": [
    "### OBTAINING PREDICTED STOCK PRICE VALUES\n",
    "predicted_oput_bptt = []\n",
    "with torch.no_grad():\n",
    "    for inputs,targets in test_loader:\n",
    "        output = model_bptt(inputs)   ### Here 'model' is the fully trained model using plain backpropagation\n",
    "        predicted_oput_bptt.append(output)"
   ]
  },
  {
   "cell_type": "code",
   "execution_count": 209,
   "metadata": {},
   "outputs": [],
   "source": [
    "predicted_oput_bptt_lst = []\n",
    "for i in range(len(y_test)):\n",
    "    predicted_oput_bptt_lst.append(predicted_oput_bptt[0][i][0].tolist())"
   ]
  },
  {
   "cell_type": "code",
   "execution_count": 210,
   "metadata": {},
   "outputs": [
    {
     "data": {
      "image/png": "[encoded data removed]",
      "text/plain": [
       "<Figure size 432x288 with 1 Axes>"
      ]
     },
     "metadata": {
      "needs_background": "light"
     },
     "output_type": "display_data"
    }
   ],
   "source": [
    "### The number of weight updates = number of batches x number of epochs\n",
    "time_point = [el for el in range(1,179)]\n",
    "\n",
    "fig = plt.figure()\n",
    "ax1 = fig.add_subplot(111)\n",
    "ax1.plot(time_point, predicted_oput_bptt_lst)\n",
    "ax1.plot(time_point, flat_list_ytest)\n",
    "#ax1.set_xticks(weight_updates)\n",
    "#ax1.set_xticklabels(weight_updates)\n",
    "plt.legend(['Forecasted value', 'Actual Value'], loc='upper right')\n",
    "plt.title('Actual and Forecasted Stock values using BPTT')\n",
    "plt.xlabel('Time Point')\n",
    "plt.ylabel('Normalized Stock Price')\n",
    "plt.show()\n",
    "\n",
    "\n",
    "#plt.plot(weight_updates,MSE)\n",
    "#plt.show()"
   ]
  },
  {
   "cell_type": "markdown",
   "metadata": {},
   "source": [
    "# C. Forecasting using LSTM network\n",
    "\n",
    "##### The working and implementation is same as the above BPTT model with the only difference being the use of an LSTM layer which requires the initialization of 2 hidden states (ht & ct) as initialized below."
   ]
  },
  {
   "cell_type": "code",
   "execution_count": 179,
   "metadata": {},
   "outputs": [],
   "source": [
    "class LSTM_Model(nn.Module):\n",
    "    def __init__(self, input_size, hidden_dim, n_layers,seq_len):\n",
    "        super(LSTM_Model, self).__init__()\n",
    "\n",
    "        # Defining some parameters\n",
    "        self.input_size = input_size\n",
    "        self.hidden_dim = hidden_dim\n",
    "        self.n_layers = n_layers\n",
    "        self.seq_len = seq_len\n",
    "        \n",
    "\n",
    "        #Defining the layers\n",
    "        # RNN Layer\n",
    "        self.lstm = nn.LSTM(input_size = input_size, hidden_size = hidden_dim,num_layers = n_layers, batch_first=True)   \n",
    "        # Fully connected layer\n",
    "        self.fc = nn.Linear(hidden_dim, 1)\n",
    "    \n",
    "    \n",
    "    #def reset_hidden(self):\n",
    "        # This method generates the first hidden state of zeros which we'll use in the forward pass\n",
    "        # We'll send the tensor holding the hidden state to the device we specified earlier as well\n",
    "    #    self.hidden = (torch.zeros(self.n_layers, self.seq_len, self.hidden_dim),\n",
    "    #                  torch.zeros(self.n_layers, self.seq_len, self.hidden_dim))\n",
    "    \n",
    "    def forward(self, x):\n",
    "        \n",
    "        batch_size = x.size(0)\n",
    "\n",
    "        # Initializing hidden state for first input using method defined below\n",
    "        hidden = self.init_hidden(batch_size)\n",
    "\n",
    "        # Passing in the input and hidden state into the model and obtaining outputs\n",
    "        #out, _ = self.lstm(x.view(len(x),self.seq_len,self.input_size), hidden)\n",
    "        out, _ = self.lstm(x, hidden)\n",
    "        #out_final = self.fc(out.view(self.seq_len,len(x),self.hidden_dim)[-1])\n",
    "        out_final = self.fc(out[:,-1,:])\n",
    "        return out_final\n",
    "    \n",
    "    def init_hidden(self, batch_size):\n",
    "        # This method generates the first hidden state of zeros which we'll use in the forward pass\n",
    "        # We'll send the tensor holding the hidden state to the device we specified earlier as well\n",
    "        hidden = (torch.zeros(self.n_layers, batch_size, self.hidden_dim),\n",
    "                  torch.zeros(self.n_layers, batch_size, self.hidden_dim))\n",
    "        return hidden"
   ]
  },
  {
   "cell_type": "markdown",
   "metadata": {},
   "source": [
    "#### Training the model"
   ]
  },
  {
   "cell_type": "code",
   "execution_count": 170,
   "metadata": {},
   "outputs": [],
   "source": [
    "input_size = 1\n",
    "hidden_dim = 10\n",
    "n_layers = 1\n",
    "seq_len = 5\n",
    "model_lstm = LSTM_Model(input_size,hidden_dim,n_layers,seq_len)  ### Initiate the RNN class object named model_bptt\n",
    "\n",
    "criterion = nn.MSELoss()  ### Define the loss function which is Mean Squared Error\n",
    "\n",
    "optimizer = optim.Adam(model_lstm.parameters(), lr=0.005) # Optimizers require the model parameters to optimize and a learning rate\n",
    "\n",
    "epochs = 300\n",
    "train_MSE_aft_weight_upd_lstm = []  ### List to store MSE after every weight update i.e. after every batch\n",
    "test_MSE_aft_weight_upd_lstm = [] ### List to store the Test MSE after every weight update, i.e. after every batch\n",
    "\n",
    "### Training the dataset.\n",
    "for e in range(epochs):\n",
    "    #model_lstm.reset_hidden()\n",
    "    for inputs,targets in train_loader:    \n",
    "           # Training pass\n",
    "        output = model_lstm(inputs)   ### Obtaining the outputs for every row of the batch using the model built in ann class\n",
    "        loss = criterion(output, targets) ### Calculating the Loss for every row of the batch using the obtained output & target\n",
    "        loss.backward()   ### Backpropogating based on the loss \n",
    "        optimizer.step()  ### Updating the weights based on the gradient using the optimizer.step() function\n",
    "        optimizer.zero_grad() ### Erasing the gradient values after every weight update\n",
    "        train_MSE_aft_weight_upd_lstm.append(loss.item())\n",
    "        test_MSE_aft_weight_upd_lstm.append(test_mse_rnn(model_lstm))"
   ]
  },
  {
   "cell_type": "code",
   "execution_count": 171,
   "metadata": {},
   "outputs": [
    {
     "data": {
      "text/plain": [
       "1.2593770027160645"
      ]
     },
     "execution_count": 171,
     "metadata": {},
     "output_type": "execute_result"
    }
   ],
   "source": [
    "test_MSE_aft_weight_upd_lstm[-1]"
   ]
  },
  {
   "cell_type": "code",
   "execution_count": 172,
   "metadata": {
    "scrolled": true
   },
   "outputs": [
    {
     "data": {
      "image/png": "[encoded data removed]",
      "text/plain": [
       "<Figure size 432x288 with 1 Axes>"
      ]
     },
     "metadata": {
      "needs_background": "light"
     },
     "output_type": "display_data"
    }
   ],
   "source": [
    "### The number of weight updates = number of batches x number of epochs\n",
    "weight_updates = [el for el in range(math.ceil(len(train)/math.ceil(len(train)/10))*epochs)]\n",
    "\n",
    "fig = plt.figure()\n",
    "ax1 = fig.add_subplot(111)\n",
    "ax1.plot(weight_updates, train_MSE_aft_weight_upd_lstm)\n",
    "ax1.plot(weight_updates, test_MSE_aft_weight_upd_lstm)\n",
    "#ax1.set_xticks(weight_updates)\n",
    "#ax1.set_xticklabels(weight_updates)\n",
    "plt.legend(['Train MSE after every weight update', 'Test MSE after every weight update'], loc='upper right')\n",
    "plt.title('MSE after every Weight Updation')\n",
    "plt.xlabel('Number of Weight Updations')\n",
    "plt.ylabel('MSE')\n",
    "plt.show()\n",
    "\n",
    "\n",
    "#plt.plot(weight_updates,MSE)\n",
    "#plt.show()"
   ]
  },
  {
   "cell_type": "markdown",
   "metadata": {},
   "source": [
    "### The final Test MSE obtained using a fully trained LSTM model is as shown below"
   ]
  },
  {
   "cell_type": "code",
   "execution_count": 231,
   "metadata": {},
   "outputs": [
    {
     "data": {
      "text/plain": [
       "1.2593770027160645"
      ]
     },
     "execution_count": 231,
     "metadata": {},
     "output_type": "execute_result"
    }
   ],
   "source": [
    "test_mse_lstm = test_mse_rnn(model_lstm)\n",
    "test_mse_lstm"
   ]
  },
  {
   "cell_type": "markdown",
   "metadata": {},
   "source": [
    "### The Computational Effort (Number of Weight Updates) required to obtain the desirable Test MSE of <= 1.95 for LSTM"
   ]
  },
  {
   "cell_type": "code",
   "execution_count": 180,
   "metadata": {},
   "outputs": [
    {
     "name": "stdout",
     "output_type": "stream",
     "text": [
      "Number of Epochs elapsed =  206 Number of batches elapsed in current epoch =  3\n",
      "Total Number of Weight Updates/Computational Effort =  2063\n"
     ]
    }
   ],
   "source": [
    "input_size = 1\n",
    "hidden_dim = 10\n",
    "n_layers = 1\n",
    "seq_len = 5\n",
    "model_lstm_comp_effort = LSTM_Model(input_size,hidden_dim,n_layers,seq_len)\n",
    "\n",
    "criterion = nn.MSELoss()  ### Define the loss function which is Mean Squared Error\n",
    "\n",
    "optimizer = optim.Adam(model_lstm_comp_effort.parameters(), lr=0.005) # Optimizers require the model parameters to optimize and a learning rate\n",
    "\n",
    "epochs = 1000\n",
    "\n",
    "### Training the dataset.\n",
    "for e in range(1,epochs+1):\n",
    "    batch_no = 0\n",
    "    breaking_inner = 0\n",
    "    for inputs,targets in train_loader:   \n",
    "        batch_no = batch_no + 1\n",
    "        # Training pass\n",
    "        output = model_lstm_comp_effort(inputs)   ### Obtaining the outputs for every row of the batch using the model built in ann class\n",
    "        loss = criterion(output, targets) ### Calculating the Loss for every row of the batch using the obtained output & target\n",
    "        loss.backward()   ### Obtaining the outputs for every row of the batch using the model built in ann class \n",
    "        optimizer.step()  ### Updating the weights based on the gradient using the optimizer.step() function\n",
    "        optimizer.zero_grad() ### Erasing the gradient values after every weight update\n",
    "        if test_mse_rnn(model_lstm_comp_effort) <= 1.95:\n",
    "            breaking_inner = 1\n",
    "            break\n",
    "    if breaking_inner == 1:\n",
    "        break ### Break from the outer loop if we break from the inner loop also and then run for the next value of number of nodes\n",
    "    \n",
    "### Number of weight updates that have happened so far = product of number of batches & epochs iterated through + batch no of current epoch\n",
    "if e == 1000:\n",
    "    No_weight_updates_lstm = (e * 10)\n",
    "else:\n",
    "    No_weight_updates_lstm = (e * 10) + batch_no ### Since there are 10 batches in total\n",
    "print(\"Number of Epochs elapsed = \",e,\"Number of batches elapsed in current epoch = \", batch_no)\n",
    "print(\"Total Number of Weight Updates/Computational Effort = \",No_weight_updates_lstm)"
   ]
  },
  {
   "cell_type": "markdown",
   "metadata": {},
   "source": [
    "### Plotting Actual Stock Prices and Forecasted/Predicted Stock Prices over time"
   ]
  },
  {
   "cell_type": "code",
   "execution_count": 175,
   "metadata": {},
   "outputs": [],
   "source": [
    "### OBTAINING PREDICTED STOCK PRICE VALUES\n",
    "predicted_oput_lstm = []\n",
    "with torch.no_grad():\n",
    "    for inputs,targets in test_loader:\n",
    "        output = model_lstm(inputs)   ### Here 'model' is the fully trained model using plain backpropagation\n",
    "        predicted_oput_lstm.append(output)"
   ]
  },
  {
   "cell_type": "code",
   "execution_count": 176,
   "metadata": {},
   "outputs": [],
   "source": [
    "predicted_oput_lstm_lst = []\n",
    "for i in range(len(y_test)):\n",
    "    predicted_oput_lstm_lst.append(predicted_oput_lstm[0][i][0].tolist())"
   ]
  },
  {
   "cell_type": "code",
   "execution_count": 257,
   "metadata": {},
   "outputs": [
    {
     "data": {
      "image/png": "[encoded data removed]",
      "text/plain": [
       "<Figure size 432x288 with 1 Axes>"
      ]
     },
     "metadata": {
      "needs_background": "light"
     },
     "output_type": "display_data"
    }
   ],
   "source": [
    "### The number of weight updates = number of batches x number of epochs\n",
    "time_point = [el for el in range(1,179)]\n",
    "\n",
    "fig = plt.figure()\n",
    "ax1 = fig.add_subplot(111)\n",
    "ax1.plot(time_point, predicted_oput_lstm_lst)\n",
    "ax1.plot(time_point, flat_list_ytest)\n",
    "#ax1.set_xticks(weight_updates)\n",
    "#ax1.set_xticklabels(weight_updates)\n",
    "plt.legend(['Forecasted value', 'Actual Value'], loc='upper right')\n",
    "plt.title('Actual and Forecasted Stock values using LSTM')\n",
    "plt.xlabel('Time Point')\n",
    "plt.ylabel('Normalized Stock Price')\n",
    "plt.show()\n",
    "\n",
    "\n",
    "#plt.plot(weight_updates,MSE)\n",
    "#plt.show()"
   ]
  },
  {
   "cell_type": "markdown",
   "metadata": {},
   "source": [
    "# D. Forecasting using GRU network\n",
    "###### Using a GRU layer and one hidden state with dimensions of number of layers, batch size and number of nodes (hidden dim)"
   ]
  },
  {
   "cell_type": "code",
   "execution_count": 214,
   "metadata": {},
   "outputs": [],
   "source": [
    "class GRU_Model(nn.Module):\n",
    "    def __init__(self, input_size, hidden_dim, n_layers,seq_len):\n",
    "        super(GRU_Model, self).__init__()\n",
    "\n",
    "        # Defining some parameters\n",
    "        self.input_size = input_size\n",
    "        self.hidden_dim = hidden_dim\n",
    "        self.n_layers = n_layers\n",
    "        self.seq_len = seq_len\n",
    "        \n",
    "\n",
    "        #Defining the layers\n",
    "        # GRU Layer\n",
    "        self.gru = nn.GRU(input_size = input_size, hidden_size = hidden_dim,num_layers = n_layers, batch_first=True)   \n",
    "        # Fully connected layer\n",
    "        self.fc = nn.Linear(hidden_dim, 1)\n",
    "    \n",
    "    \n",
    "    #def reset_hidden(self):\n",
    "        # This method generates the first hidden state of zeros which we'll use in the forward pass\n",
    "        # We'll send the tensor holding the hidden state to the device we specified earlier as well\n",
    "    #    self.hidden = (torch.zeros(self.n_layers, self.seq_len, self.hidden_dim),\n",
    "    #                  torch.zeros(self.n_layers, self.seq_len, self.hidden_dim))\n",
    "    \n",
    "    def forward(self, x):\n",
    "        \n",
    "        batch_size = x.size(0)\n",
    "\n",
    "        # Initializing hidden state for first input using method defined below\n",
    "        hidden = self.init_hidden(batch_size)\n",
    "\n",
    "        # Passing in the input and hidden state into the model and obtaining outputs\n",
    "        #out, _ = self.lstm(x.view(len(x),self.seq_len,self.input_size), hidden)\n",
    "        out, _ = self.gru(x, hidden)\n",
    "        #out_final = self.fc(out.view(self.seq_len,len(x),self.hidden_dim)[-1])\n",
    "        out_final = self.fc(out[:,-1,:])\n",
    "        return out_final\n",
    "    \n",
    "    def init_hidden(self, batch_size):\n",
    "        # This method generates the first hidden state of zeros which we'll use in the forward pass\n",
    "        # We'll send the tensor holding the hidden state to the device we specified earlier as well\n",
    "        hidden = (torch.zeros(self.n_layers, batch_size, self.hidden_dim))\n",
    "        return hidden"
   ]
  },
  {
   "cell_type": "markdown",
   "metadata": {},
   "source": [
    "#### Training the model"
   ]
  },
  {
   "cell_type": "code",
   "execution_count": 226,
   "metadata": {},
   "outputs": [],
   "source": [
    "input_size = 1\n",
    "hidden_dim = 10\n",
    "n_layers = 1\n",
    "seq_len = 5\n",
    "model_gru = GRU_Model(input_size,hidden_dim,n_layers,seq_len)  ### Initiate the RNN class object named model_bptt\n",
    "\n",
    "criterion = nn.MSELoss()  ### Define the loss function which is Mean Squared Error\n",
    "\n",
    "optimizer = optim.Adam(model_gru.parameters(), lr=0.005) # Optimizers require the model parameters to optimize and a learning rate\n",
    "\n",
    "epochs = 200\n",
    "train_MSE_aft_weight_upd_gru = []  ### List to store MSE after every weight update i.e. after every batch\n",
    "test_MSE_aft_weight_upd_gru = [] ### List to store the Test MSE after every weight update, i.e. after every batch\n",
    "\n",
    "### Training the dataset.\n",
    "for e in range(epochs):\n",
    "    #model_lstm.reset_hidden()\n",
    "    for inputs,targets in train_loader:    \n",
    "           # Training pass\n",
    "        output = model_gru(inputs)   ### Obtaining the outputs for every row of the batch using the model built in ann class\n",
    "        loss = criterion(output, targets) ### Calculating the Loss for every row of the batch using the obtained output & target\n",
    "        loss.backward()   ### Backpropogating based on the loss \n",
    "        optimizer.step()  ### Updating the weights based on the gradient using the optimizer.step() function\n",
    "        optimizer.zero_grad() ### Erasing the gradient values after every weight update\n",
    "        train_MSE_aft_weight_upd_gru.append(loss.item())\n",
    "        test_MSE_aft_weight_upd_gru.append(test_mse_rnn(model_gru))"
   ]
  },
  {
   "cell_type": "code",
   "execution_count": 227,
   "metadata": {
    "scrolled": true
   },
   "outputs": [
    {
     "data": {
      "text/plain": [
       "1.3572828769683838"
      ]
     },
     "execution_count": 227,
     "metadata": {},
     "output_type": "execute_result"
    }
   ],
   "source": [
    "test_MSE_aft_weight_upd_gru[-1]"
   ]
  },
  {
   "cell_type": "code",
   "execution_count": 228,
   "metadata": {
    "scrolled": true
   },
   "outputs": [
    {
     "data": {
      "image/png": "[encoded data removed]",
      "text/plain": [
       "<Figure size 432x288 with 1 Axes>"
      ]
     },
     "metadata": {
      "needs_background": "light"
     },
     "output_type": "display_data"
    }
   ],
   "source": [
    "### The number of weight updates = number of batches x number of epochs\n",
    "weight_updates = [el for el in range(math.ceil(len(train)/math.ceil(len(train)/10))*epochs)]\n",
    "\n",
    "fig = plt.figure()\n",
    "ax1 = fig.add_subplot(111)\n",
    "ax1.plot(weight_updates, train_MSE_aft_weight_upd_gru)\n",
    "ax1.plot(weight_updates, test_MSE_aft_weight_upd_gru)\n",
    "#ax1.set_xticks(weight_updates)\n",
    "#ax1.set_xticklabels(weight_updates)\n",
    "plt.legend(['Train MSE after every weight update', 'Test MSE after every weight update'], loc='upper right')\n",
    "plt.title('MSE after every Weight Updation')\n",
    "plt.xlabel('Number of Weight Updations')\n",
    "plt.ylabel('MSE')\n",
    "plt.show()\n",
    "\n",
    "\n",
    "#plt.plot(weight_updates,MSE)\n",
    "#plt.show()"
   ]
  },
  {
   "cell_type": "markdown",
   "metadata": {},
   "source": [
    "### The final Test MSE obtained using a fully trained GRU model is as shown below"
   ]
  },
  {
   "cell_type": "code",
   "execution_count": 230,
   "metadata": {},
   "outputs": [
    {
     "data": {
      "text/plain": [
       "1.3572828769683838"
      ]
     },
     "execution_count": 230,
     "metadata": {},
     "output_type": "execute_result"
    }
   ],
   "source": [
    "test_mse_gru = test_mse_rnn(model_gru)\n",
    "test_mse_gru"
   ]
  },
  {
   "cell_type": "markdown",
   "metadata": {},
   "source": [
    "### The Computational Effort (Number of Weight Updates) required to obtain the desirable Test MSE of <= 1.95 for GRU"
   ]
  },
  {
   "cell_type": "code",
   "execution_count": 233,
   "metadata": {},
   "outputs": [
    {
     "name": "stdout",
     "output_type": "stream",
     "text": [
      "Number of Epochs elapsed =  89 Number of batches elapsed in current epoch =  3\n",
      "Total Number of Weight Updates/Computational Effort =  893\n"
     ]
    }
   ],
   "source": [
    "input_size = 1\n",
    "hidden_dim = 10\n",
    "n_layers = 1\n",
    "seq_len = 5\n",
    "model_gru_comp_effort = GRU_Model(input_size,hidden_dim,n_layers,seq_len)\n",
    "\n",
    "criterion = nn.MSELoss()  ### Define the loss function which is Mean Squared Error\n",
    "\n",
    "optimizer = optim.Adam(model_gru_comp_effort.parameters(), lr=0.005) # Optimizers require the model parameters to optimize and a learning rate\n",
    "\n",
    "epochs = 1000\n",
    "\n",
    "### Training the dataset.\n",
    "for e in range(1,epochs+1):\n",
    "    batch_no = 0\n",
    "    breaking_inner = 0\n",
    "    for inputs,targets in train_loader:   \n",
    "        batch_no = batch_no + 1\n",
    "        # Training pass\n",
    "        output = model_gru_comp_effort(inputs)   ### Obtaining the outputs for every row of the batch using the model built in ann class\n",
    "        loss = criterion(output, targets) ### Calculating the Loss for every row of the batch using the obtained output & target\n",
    "        loss.backward()   ### Obtaining the outputs for every row of the batch using the model built in ann class \n",
    "        optimizer.step()  ### Updating the weights based on the gradient using the optimizer.step() function\n",
    "        optimizer.zero_grad() ### Erasing the gradient values after every weight update\n",
    "        if test_mse_rnn(model_gru_comp_effort) <= 1.95:\n",
    "            breaking_inner = 1\n",
    "            break\n",
    "    if breaking_inner == 1:\n",
    "        break ### Break from the outer loop if we break from the inner loop also and then run for the next value of number of nodes\n",
    "    \n",
    "### Number of weight updates that have happened so far = product of number of batches & epochs iterated through + batch no of current epoch\n",
    "if e == 1000:\n",
    "    No_weight_updates_gru = (e * 10)\n",
    "else:\n",
    "    No_weight_updates_gru = (e * 10) + batch_no ### Since there are 10 batches in total\n",
    "print(\"Number of Epochs elapsed = \",e,\"Number of batches elapsed in current epoch = \", batch_no)\n",
    "print(\"Total Number of Weight Updates/Computational Effort = \",No_weight_updates_gru)"
   ]
  },
  {
   "cell_type": "markdown",
   "metadata": {},
   "source": [
    "### Plotting Actual Stock Prices and Forecasted/Predicted Stock Prices over time"
   ]
  },
  {
   "cell_type": "code",
   "execution_count": 234,
   "metadata": {},
   "outputs": [],
   "source": [
    "### OBTAINING PREDICTED STOCK PRICE VALUES\n",
    "predicted_oput_gru = []\n",
    "with torch.no_grad():\n",
    "    for inputs,targets in test_loader:\n",
    "        output = model_gru(inputs)   ### Here 'model' is the fully trained model using plain backpropagation\n",
    "        predicted_oput_gru.append(output)"
   ]
  },
  {
   "cell_type": "code",
   "execution_count": 235,
   "metadata": {},
   "outputs": [],
   "source": [
    "predicted_oput_gru_lst = []\n",
    "for i in range(len(y_test)):\n",
    "    predicted_oput_gru_lst.append(predicted_oput_gru[0][i][0].tolist())"
   ]
  },
  {
   "cell_type": "code",
   "execution_count": 236,
   "metadata": {},
   "outputs": [
    {
     "data": {
      "image/png": "[encoded data removed]",
      "text/plain": [
       "<Figure size 432x288 with 1 Axes>"
      ]
     },
     "metadata": {
      "needs_background": "light"
     },
     "output_type": "display_data"
    }
   ],
   "source": [
    "### The number of weight updates = number of batches x number of epochs\n",
    "time_point = [el for el in range(1,179)]\n",
    "\n",
    "fig = plt.figure()\n",
    "ax1 = fig.add_subplot(111)\n",
    "ax1.plot(time_point, predicted_oput_gru_lst)\n",
    "ax1.plot(time_point, flat_list_ytest)\n",
    "#ax1.set_xticks(weight_updates)\n",
    "#ax1.set_xticklabels(weight_updates)\n",
    "plt.legend(['Forecasted value', 'Actual Value'], loc='upper right')\n",
    "plt.title('Actual and Forecasted Stock values using GRU')\n",
    "plt.xlabel('Time Point')\n",
    "plt.ylabel('Normalized Stock Price')\n",
    "plt.show()\n",
    "\n",
    "\n",
    "#plt.plot(weight_updates,MSE)\n",
    "#plt.show()"
   ]
  },
  {
   "cell_type": "markdown",
   "metadata": {},
   "source": [
    "# Plotting Line Graphs to comapre Best MSE & Computational Effort"
   ]
  },
  {
   "cell_type": "code",
   "execution_count": 258,
   "metadata": {},
   "outputs": [],
   "source": [
    "Final_MSEs = [test_mse_plain_backprop,test_mse_bptt,test_mse_lstm,test_mse_gru]\n",
    "Computational_Efforts = [No_weight_updates_plain_bp,No_weight_updates_bptt,No_weight_updates_lstm,No_weight_updates_gru]\n",
    "Networks = [\"PLAIN BACKPROPAGATION\",\"BPTT\",\"LSTM\",\"GRU\"]"
   ]
  },
  {
   "cell_type": "markdown",
   "metadata": {},
   "source": [
    "###### From the below figure which shows the Best Test MSE attained by each network, we can observe that LSTM & GRU networks yield the best performance with the LSTM network model producing the lowest Test MSE of 1.25, as obtained in the above implemnetation section. This is followed by the GRU model with a Test MSE of 1.35. As expected, the performance of Plain Backpropagation & BPTT are poorer than that of LSTM & GRU which have the capability to remember the historical data (Stability) and also to learn new inputs (Plasticity). This Stability & Plasticity capabilities can be the reason for their enhanced performance."
   ]
  },
  {
   "cell_type": "code",
   "execution_count": 259,
   "metadata": {
    "scrolled": true
   },
   "outputs": [
    {
     "data": {
      "image/png": "[encoded data removed]",
      "text/plain": [
       "<Figure size 720x360 with 1 Axes>"
      ]
     },
     "metadata": {
      "needs_background": "light"
     },
     "output_type": "display_data"
    }
   ],
   "source": [
    "fig = plt.figure(figsize = (10, 5)) \n",
    "  \n",
    "# creating the bar plot \n",
    "plt.plot(Networks, Final_MSEs, color ='maroon') \n",
    "  \n",
    "plt.xlabel(\"NETWORKs\") \n",
    "plt.ylabel(\"MSE\") \n",
    "plt.title(\"Best MSE VS Network\") \n",
    "plt.show() "
   ]
  },
  {
   "cell_type": "markdown",
   "metadata": {},
   "source": [
    "##### From the below figure which shows the Computational Effort (Number of Weight Updates) required by each of the models to attained  a desirable Test MSE of <= 1.95. The Plain Backpropagation model requires the highest computational effort of 9,262 weight updates, whereas the GRU model requires the lowest computational effort of 893 weight updates only. This result is also in line with our expectations, as we know that LSTM & GRU models converge very quickly with minimal effort because of their Elasticity, Plastcity capabilities."
   ]
  },
  {
   "cell_type": "code",
   "execution_count": 261,
   "metadata": {
    "scrolled": false
   },
   "outputs": [
    {
     "data": {
      "image/png": "[encoded data removed]",
      "text/plain": [
       "<Figure size 720x360 with 1 Axes>"
      ]
     },
     "metadata": {
      "needs_background": "light"
     },
     "output_type": "display_data"
    }
   ],
   "source": [
    "fig = plt.figure(figsize = (10, 5)) \n",
    "  \n",
    "# creating the bar plot \n",
    "plt.plot(Networks, Computational_Efforts, color ='maroon') \n",
    "  \n",
    "plt.xlabel(\"NETWORKs\") \n",
    "plt.ylabel(\"Computational Effort (Number of weight updates)\") \n",
    "plt.title(\"Computational_Efforts VS Network\") \n",
    "plt.show() "
   ]
  },
  {
   "cell_type": "markdown",
   "metadata": {},
   "source": [
    "### CONCLUSION"
   ]
  },
  {
   "cell_type": "markdown",
   "metadata": {},
   "source": [
    "Based on the above 2 results of Best MSE & Computational Effort, we can conclude that it is wise to choose either LSTM or GRU network models for this Time Series Forecasting problem, as they require minimum computational effort and also produce the lowest Test MSE. Now, between LSTM & GRU there is an Effort versus Results dilemma, where LSTM is producing better MSE results and GRU on the other hand is taking lower computational effort. Hence, any one of the 2 can be chosen depending on the requirement of the user."
   ]
  },
  {
   "cell_type": "markdown",
   "metadata": {},
   "source": [
    "## END of HOMEWORK 2"
   ]
  }
 ],
 "metadata": {
  "kernelspec": {
   "display_name": "Python 3",
   "language": "python",
   "name": "python3"
  },
  "language_info": {
   "codemirror_mode": {
    "name": "ipython",
    "version": 3
   },
   "file_extension": ".py",
   "mimetype": "text/x-python",
   "name": "python",
   "nbconvert_exporter": "python",
   "pygments_lexer": "ipython3",
   "version": "3.7.4"
  }
 },
 "nbformat": 4,
 "nbformat_minor": 2
}
